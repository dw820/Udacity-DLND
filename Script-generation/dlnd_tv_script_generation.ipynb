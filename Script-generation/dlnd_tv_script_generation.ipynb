{
 "cells": [
  {
   "cell_type": "markdown",
   "metadata": {
    "deletable": true,
    "editable": true
   },
   "source": [
    "# TV Script Generation\n",
    "In this project, you'll generate your own [Simpsons](https://en.wikipedia.org/wiki/The_Simpsons) TV scripts using RNNs.  You'll be using part of the [Simpsons dataset](https://www.kaggle.com/wcukierski/the-simpsons-by-the-data) of scripts from 27 seasons.  The Neural Network you'll build will generate a new TV script for a scene at [Moe's Tavern](https://simpsonswiki.com/wiki/Moe's_Tavern).\n",
    "## Get the Data\n",
    "The data is already provided for you.  You'll be using a subset of the original dataset.  It consists of only the scenes in Moe's Tavern.  This doesn't include other versions of the tavern, like \"Moe's Cavern\", \"Flaming Moe's\", \"Uncle Moe's Family Feed-Bag\", etc.."
   ]
  },
  {
   "cell_type": "code",
   "execution_count": 4,
   "metadata": {
    "collapsed": false,
    "deletable": true,
    "editable": true
   },
   "outputs": [
    {
     "ename": "UnicodeDecodeError",
     "evalue": "'ascii' codec can't decode byte 0xc2 in position 17: ordinal not in range(128)",
     "output_type": "error",
     "traceback": [
      "\u001b[0;31m---------------------------------------------------------------------------\u001b[0m",
      "\u001b[0;31mUnicodeDecodeError\u001b[0m                        Traceback (most recent call last)",
      "\u001b[0;32m<ipython-input-4-ec3e55afeffe>\u001b[0m in \u001b[0;36m<module>\u001b[0;34m()\u001b[0m\n\u001b[1;32m      5\u001b[0m \u001b[0;34m\u001b[0m\u001b[0m\n\u001b[1;32m      6\u001b[0m \u001b[0mdata_dir\u001b[0m \u001b[0;34m=\u001b[0m \u001b[0;34m'./data/simpsons/moes_tavern_lines.txt'\u001b[0m\u001b[0;34m\u001b[0m\u001b[0m\n\u001b[0;32m----> 7\u001b[0;31m \u001b[0mtext\u001b[0m \u001b[0;34m=\u001b[0m \u001b[0mhelper\u001b[0m\u001b[0;34m.\u001b[0m\u001b[0mload_data\u001b[0m\u001b[0;34m(\u001b[0m\u001b[0mdata_dir\u001b[0m\u001b[0;34m)\u001b[0m\u001b[0;34m\u001b[0m\u001b[0m\n\u001b[0m\u001b[1;32m      8\u001b[0m \u001b[0;31m# Ignore notice, since we don't use it for analysing the data\u001b[0m\u001b[0;34m\u001b[0m\u001b[0;34m\u001b[0m\u001b[0m\n\u001b[1;32m      9\u001b[0m \u001b[0mtext\u001b[0m \u001b[0;34m=\u001b[0m \u001b[0mtext\u001b[0m\u001b[0;34m[\u001b[0m\u001b[0;36m81\u001b[0m\u001b[0;34m:\u001b[0m\u001b[0;34m]\u001b[0m\u001b[0;34m\u001b[0m\u001b[0m\n",
      "\u001b[0;32m/home/carnd/project3/helper.py\u001b[0m in \u001b[0;36mload_data\u001b[0;34m(path)\u001b[0m\n\u001b[1;32m      9\u001b[0m     \u001b[0minput_file\u001b[0m \u001b[0;34m=\u001b[0m \u001b[0mos\u001b[0m\u001b[0;34m.\u001b[0m\u001b[0mpath\u001b[0m\u001b[0;34m.\u001b[0m\u001b[0mjoin\u001b[0m\u001b[0;34m(\u001b[0m\u001b[0mpath\u001b[0m\u001b[0;34m)\u001b[0m\u001b[0;34m\u001b[0m\u001b[0m\n\u001b[1;32m     10\u001b[0m     \u001b[0;32mwith\u001b[0m \u001b[0mopen\u001b[0m\u001b[0;34m(\u001b[0m\u001b[0minput_file\u001b[0m\u001b[0;34m,\u001b[0m \u001b[0;34m\"r\"\u001b[0m\u001b[0;34m)\u001b[0m \u001b[0;32mas\u001b[0m \u001b[0mf\u001b[0m\u001b[0;34m:\u001b[0m\u001b[0;34m\u001b[0m\u001b[0m\n\u001b[0;32m---> 11\u001b[0;31m         \u001b[0mdata\u001b[0m \u001b[0;34m=\u001b[0m \u001b[0mf\u001b[0m\u001b[0;34m.\u001b[0m\u001b[0mread\u001b[0m\u001b[0;34m(\u001b[0m\u001b[0;34m)\u001b[0m\u001b[0;34m\u001b[0m\u001b[0m\n\u001b[0m\u001b[1;32m     12\u001b[0m \u001b[0;34m\u001b[0m\u001b[0m\n\u001b[1;32m     13\u001b[0m     \u001b[0;32mreturn\u001b[0m \u001b[0mdata\u001b[0m\u001b[0;34m\u001b[0m\u001b[0m\n",
      "\u001b[0;32m/home/carnd/anaconda3/envs/dl/lib/python3.5/encodings/ascii.py\u001b[0m in \u001b[0;36mdecode\u001b[0;34m(self, input, final)\u001b[0m\n\u001b[1;32m     24\u001b[0m \u001b[0;32mclass\u001b[0m \u001b[0mIncrementalDecoder\u001b[0m\u001b[0;34m(\u001b[0m\u001b[0mcodecs\u001b[0m\u001b[0;34m.\u001b[0m\u001b[0mIncrementalDecoder\u001b[0m\u001b[0;34m)\u001b[0m\u001b[0;34m:\u001b[0m\u001b[0;34m\u001b[0m\u001b[0m\n\u001b[1;32m     25\u001b[0m     \u001b[0;32mdef\u001b[0m \u001b[0mdecode\u001b[0m\u001b[0;34m(\u001b[0m\u001b[0mself\u001b[0m\u001b[0;34m,\u001b[0m \u001b[0minput\u001b[0m\u001b[0;34m,\u001b[0m \u001b[0mfinal\u001b[0m\u001b[0;34m=\u001b[0m\u001b[0;32mFalse\u001b[0m\u001b[0;34m)\u001b[0m\u001b[0;34m:\u001b[0m\u001b[0;34m\u001b[0m\u001b[0m\n\u001b[0;32m---> 26\u001b[0;31m         \u001b[0;32mreturn\u001b[0m \u001b[0mcodecs\u001b[0m\u001b[0;34m.\u001b[0m\u001b[0mascii_decode\u001b[0m\u001b[0;34m(\u001b[0m\u001b[0minput\u001b[0m\u001b[0;34m,\u001b[0m \u001b[0mself\u001b[0m\u001b[0;34m.\u001b[0m\u001b[0merrors\u001b[0m\u001b[0;34m)\u001b[0m\u001b[0;34m[\u001b[0m\u001b[0;36m0\u001b[0m\u001b[0;34m]\u001b[0m\u001b[0;34m\u001b[0m\u001b[0m\n\u001b[0m\u001b[1;32m     27\u001b[0m \u001b[0;34m\u001b[0m\u001b[0m\n\u001b[1;32m     28\u001b[0m \u001b[0;32mclass\u001b[0m \u001b[0mStreamWriter\u001b[0m\u001b[0;34m(\u001b[0m\u001b[0mCodec\u001b[0m\u001b[0;34m,\u001b[0m\u001b[0mcodecs\u001b[0m\u001b[0;34m.\u001b[0m\u001b[0mStreamWriter\u001b[0m\u001b[0;34m)\u001b[0m\u001b[0;34m:\u001b[0m\u001b[0;34m\u001b[0m\u001b[0m\n",
      "\u001b[0;31mUnicodeDecodeError\u001b[0m: 'ascii' codec can't decode byte 0xc2 in position 17: ordinal not in range(128)"
     ]
    }
   ],
   "source": [
    "\"\"\"\n",
    "DON'T MODIFY ANYTHING IN THIS CELL\n",
    "\"\"\"\n",
    "import helper\n",
    "\n",
    "data_dir = './data/simpsons/moes_tavern_lines.txt'\n",
    "text = helper.load_data(data_dir)\n",
    "# Ignore notice, since we don't use it for analysing the data\n",
    "text = text[81:]\n",
    "print(text)\n"
   ]
  },
  {
   "cell_type": "markdown",
   "metadata": {
    "deletable": true,
    "editable": true
   },
   "source": [
    "## Explore the Data\n",
    "Play around with `view_sentence_range` to view different parts of the data."
   ]
  },
  {
   "cell_type": "code",
   "execution_count": 5,
   "metadata": {
    "collapsed": false,
    "deletable": true,
    "editable": true
   },
   "outputs": [
    {
     "name": "stdout",
     "output_type": "stream",
     "text": [
      "Dataset Stats\n"
     ]
    },
    {
     "ename": "NameError",
     "evalue": "name 'text' is not defined",
     "output_type": "error",
     "traceback": [
      "\u001b[0;31m---------------------------------------------------------------------------\u001b[0m",
      "\u001b[0;31mNameError\u001b[0m                                 Traceback (most recent call last)",
      "\u001b[0;32m<ipython-input-5-f125dffd96cc>\u001b[0m in \u001b[0;36m<module>\u001b[0;34m()\u001b[0m\n\u001b[1;32m      7\u001b[0m \u001b[0;34m\u001b[0m\u001b[0m\n\u001b[1;32m      8\u001b[0m \u001b[0mprint\u001b[0m\u001b[0;34m(\u001b[0m\u001b[0;34m'Dataset Stats'\u001b[0m\u001b[0;34m)\u001b[0m\u001b[0;34m\u001b[0m\u001b[0m\n\u001b[0;32m----> 9\u001b[0;31m \u001b[0mprint\u001b[0m\u001b[0;34m(\u001b[0m\u001b[0;34m'Roughly the number of unique words: {}'\u001b[0m\u001b[0;34m.\u001b[0m\u001b[0mformat\u001b[0m\u001b[0;34m(\u001b[0m\u001b[0mlen\u001b[0m\u001b[0;34m(\u001b[0m\u001b[0;34m{\u001b[0m\u001b[0mword\u001b[0m\u001b[0;34m:\u001b[0m \u001b[0;32mNone\u001b[0m \u001b[0;32mfor\u001b[0m \u001b[0mword\u001b[0m \u001b[0;32min\u001b[0m \u001b[0mtext\u001b[0m\u001b[0;34m.\u001b[0m\u001b[0msplit\u001b[0m\u001b[0;34m(\u001b[0m\u001b[0;34m)\u001b[0m\u001b[0;34m}\u001b[0m\u001b[0;34m)\u001b[0m\u001b[0;34m)\u001b[0m\u001b[0;34m)\u001b[0m\u001b[0;34m\u001b[0m\u001b[0m\n\u001b[0m\u001b[1;32m     10\u001b[0m \u001b[0mscenes\u001b[0m \u001b[0;34m=\u001b[0m \u001b[0mtext\u001b[0m\u001b[0;34m.\u001b[0m\u001b[0msplit\u001b[0m\u001b[0;34m(\u001b[0m\u001b[0;34m'\\n\\n'\u001b[0m\u001b[0;34m)\u001b[0m\u001b[0;34m\u001b[0m\u001b[0m\n\u001b[1;32m     11\u001b[0m \u001b[0mprint\u001b[0m\u001b[0;34m(\u001b[0m\u001b[0;34m'Number of scenes: {}'\u001b[0m\u001b[0;34m.\u001b[0m\u001b[0mformat\u001b[0m\u001b[0;34m(\u001b[0m\u001b[0mlen\u001b[0m\u001b[0;34m(\u001b[0m\u001b[0mscenes\u001b[0m\u001b[0;34m)\u001b[0m\u001b[0;34m)\u001b[0m\u001b[0;34m)\u001b[0m\u001b[0;34m\u001b[0m\u001b[0m\n",
      "\u001b[0;31mNameError\u001b[0m: name 'text' is not defined"
     ]
    }
   ],
   "source": [
    "view_sentence_range = (0, 10)\n",
    "\n",
    "\"\"\"\n",
    "DON'T MODIFY ANYTHING IN THIS CELL\n",
    "\"\"\"\n",
    "import numpy as np\n",
    "\n",
    "print('Dataset Stats')\n",
    "print('Roughly the number of unique words: {}'.format(len({word: None for word in text.split()})))\n",
    "scenes = text.split('\\n\\n')\n",
    "print('Number of scenes: {}'.format(len(scenes)))\n",
    "sentence_count_scene = [scene.count('\\n') for scene in scenes]\n",
    "print('Average number of sentences in each scene: {}'.format(np.average(sentence_count_scene)))\n",
    "\n",
    "sentences = [sentence for scene in scenes for sentence in scene.split('\\n')]\n",
    "print('Number of lines: {}'.format(len(sentences)))\n",
    "word_count_sentence = [len(sentence.split()) for sentence in sentences]\n",
    "print('Average number of words in each line: {}'.format(np.average(word_count_sentence)))\n",
    "\n",
    "print()\n",
    "print('The sentences {} to {}:'.format(*view_sentence_range))\n",
    "print('\\n'.join(text.split('\\n')[view_sentence_range[0]:view_sentence_range[1]]))"
   ]
  },
  {
   "cell_type": "markdown",
   "metadata": {
    "deletable": true,
    "editable": true
   },
   "source": [
    "## Implement Preprocessing Functions\n",
    "The first thing to do to any dataset is preprocessing.  Implement the following preprocessing functions below:\n",
    "- Lookup Table\n",
    "- Tokenize Punctuation\n",
    "\n",
    "### Lookup Table\n",
    "To create a word embedding, you first need to transform the words to ids.  In this function, create two dictionaries:\n",
    "- Dictionary to go from the words to an id, we'll call `vocab_to_int`\n",
    "- Dictionary to go from the id to word, we'll call `int_to_vocab`\n",
    "\n",
    "Return these dictionaries in the following tuple `(vocab_to_int, int_to_vocab)`"
   ]
  },
  {
   "cell_type": "code",
   "execution_count": 6,
   "metadata": {
    "collapsed": false,
    "deletable": true,
    "editable": true
   },
   "outputs": [
    {
     "name": "stdout",
     "output_type": "stream",
     "text": [
      "Tests Passed\n"
     ]
    }
   ],
   "source": [
    "import numpy as np\n",
    "import problem_unittests as tests\n",
    "\n",
    "def create_lookup_tables(text):\n",
    "    \"\"\"\n",
    "    Create lookup tables for vocabulary\n",
    "    :param text: The text of tv scripts split into words\n",
    "    :return: A tuple of dicts (vocab_to_int, int_to_vocab)\n",
    "    \"\"\"\n",
    "    # TODO: Implement Function\n",
    "\n",
    "    text=set(text)\n",
    "    word_enumerate = dict(enumerate(text))\n",
    "    vocab_to_int={word:i for i,word in word_enumerate.items()}\n",
    "    int_to_vocab={i:word for i,word in word_enumerate.items()}\n",
    "    #print (vocab_to_int, int_to_vocab)\n",
    "    return (vocab_to_int, int_to_vocab)\n",
    "    \n",
    "    \n",
    "\n",
    "\"\"\"\n",
    "DON'T MODIFY ANYTHING IN THIS CELL THAT IS BELOW THIS LINE\n",
    "\"\"\"\n",
    "tests.test_create_lookup_tables(create_lookup_tables)"
   ]
  },
  {
   "cell_type": "markdown",
   "metadata": {
    "deletable": true,
    "editable": true
   },
   "source": [
    "### Tokenize Punctuation\n",
    "We'll be splitting the script into a word array using spaces as delimiters.  However, punctuations like periods and exclamation marks make it hard for the neural network to distinguish between the word \"bye\" and \"bye!\".\n",
    "\n",
    "Implement the function `token_lookup` to return a dict that will be used to tokenize symbols like \"!\" into \"||Exclamation_Mark||\".  Create a dictionary for the following symbols where the symbol is the key and value is the token:\n",
    "- Period ( . )\n",
    "- Comma ( , )\n",
    "- Quotation Mark ( \" )\n",
    "- Semicolon ( ; )\n",
    "- Exclamation mark ( ! )\n",
    "- Question mark ( ? )\n",
    "- Left Parentheses ( ( )\n",
    "- Right Parentheses ( ) )\n",
    "- Dash ( -- )\n",
    "- Return ( \\n )\n",
    "\n",
    "This dictionary will be used to token the symbols and add the delimiter (space) around it.  This separates the symbols as it's own word, making it easier for the neural network to predict on the next word. Make sure you don't use a token that could be confused as a word. Instead of using the token \"dash\", try using something like \"||dash||\"."
   ]
  },
  {
   "cell_type": "code",
   "execution_count": 7,
   "metadata": {
    "collapsed": false,
    "deletable": true,
    "editable": true
   },
   "outputs": [
    {
     "name": "stdout",
     "output_type": "stream",
     "text": [
      "Tests Passed\n"
     ]
    }
   ],
   "source": [
    "def token_lookup():\n",
    "    \"\"\"\n",
    "    Generate a dict to turn punctuation into a token.\n",
    "    :return: Tokenize dictionary where the key is the punctuation and the value is the token\n",
    "    \"\"\"\n",
    "    # TODO: Implement Function\n",
    "\n",
    "    return {'.':'||Period||',',':'||Comma||','\"':'||Quotation_Mark||',';':'||Semicolon||','!':'||Exclamation_mark||','?':'||Question_mark||','(':'||Left_Parentheses||',')':'||Right_Parentheses||','--':'||Dash||','\\n':'||Return||'}\n",
    " \n",
    "\"\"\"\n",
    "DON'T MODIFY ANYTHING IN THIS CELL THAT IS BELOW THIS LINE\n",
    "\"\"\"\n",
    "tests.test_tokenize(token_lookup)"
   ]
  },
  {
   "cell_type": "markdown",
   "metadata": {
    "deletable": true,
    "editable": true
   },
   "source": [
    "## Preprocess all the data and save it\n",
    "Running the code cell below will preprocess all the data and save it to file."
   ]
  },
  {
   "cell_type": "code",
   "execution_count": 8,
   "metadata": {
    "collapsed": false,
    "deletable": true,
    "editable": true
   },
   "outputs": [
    {
     "ename": "UnicodeDecodeError",
     "evalue": "'ascii' codec can't decode byte 0xc2 in position 17: ordinal not in range(128)",
     "output_type": "error",
     "traceback": [
      "\u001b[0;31m---------------------------------------------------------------------------\u001b[0m",
      "\u001b[0;31mUnicodeDecodeError\u001b[0m                        Traceback (most recent call last)",
      "\u001b[0;32m<ipython-input-8-56ccb96c9e1b>\u001b[0m in \u001b[0;36m<module>\u001b[0;34m()\u001b[0m\n\u001b[1;32m      3\u001b[0m \"\"\"\n\u001b[1;32m      4\u001b[0m \u001b[0;31m# Preprocess Training, Validation, and Testing Data\u001b[0m\u001b[0;34m\u001b[0m\u001b[0;34m\u001b[0m\u001b[0m\n\u001b[0;32m----> 5\u001b[0;31m \u001b[0mhelper\u001b[0m\u001b[0;34m.\u001b[0m\u001b[0mpreprocess_and_save_data\u001b[0m\u001b[0;34m(\u001b[0m\u001b[0mdata_dir\u001b[0m\u001b[0;34m,\u001b[0m \u001b[0mtoken_lookup\u001b[0m\u001b[0;34m,\u001b[0m \u001b[0mcreate_lookup_tables\u001b[0m\u001b[0;34m)\u001b[0m\u001b[0;34m\u001b[0m\u001b[0m\n\u001b[0m",
      "\u001b[0;32m/home/carnd/project3/helper.py\u001b[0m in \u001b[0;36mpreprocess_and_save_data\u001b[0;34m(dataset_path, token_lookup, create_lookup_tables)\u001b[0m\n\u001b[1;32m     18\u001b[0m     \u001b[0mPreprocess\u001b[0m \u001b[0mText\u001b[0m \u001b[0mData\u001b[0m\u001b[0;34m\u001b[0m\u001b[0m\n\u001b[1;32m     19\u001b[0m     \"\"\"\n\u001b[0;32m---> 20\u001b[0;31m     \u001b[0mtext\u001b[0m \u001b[0;34m=\u001b[0m \u001b[0mload_data\u001b[0m\u001b[0;34m(\u001b[0m\u001b[0mdataset_path\u001b[0m\u001b[0;34m)\u001b[0m\u001b[0;34m\u001b[0m\u001b[0m\n\u001b[0m\u001b[1;32m     21\u001b[0m \u001b[0;34m\u001b[0m\u001b[0m\n\u001b[1;32m     22\u001b[0m     \u001b[0mtoken_dict\u001b[0m \u001b[0;34m=\u001b[0m \u001b[0mtoken_lookup\u001b[0m\u001b[0;34m(\u001b[0m\u001b[0;34m)\u001b[0m\u001b[0;34m\u001b[0m\u001b[0m\n",
      "\u001b[0;32m/home/carnd/project3/helper.py\u001b[0m in \u001b[0;36mload_data\u001b[0;34m(path)\u001b[0m\n\u001b[1;32m      9\u001b[0m     \u001b[0minput_file\u001b[0m \u001b[0;34m=\u001b[0m \u001b[0mos\u001b[0m\u001b[0;34m.\u001b[0m\u001b[0mpath\u001b[0m\u001b[0;34m.\u001b[0m\u001b[0mjoin\u001b[0m\u001b[0;34m(\u001b[0m\u001b[0mpath\u001b[0m\u001b[0;34m)\u001b[0m\u001b[0;34m\u001b[0m\u001b[0m\n\u001b[1;32m     10\u001b[0m     \u001b[0;32mwith\u001b[0m \u001b[0mopen\u001b[0m\u001b[0;34m(\u001b[0m\u001b[0minput_file\u001b[0m\u001b[0;34m,\u001b[0m \u001b[0;34m\"r\"\u001b[0m\u001b[0;34m)\u001b[0m \u001b[0;32mas\u001b[0m \u001b[0mf\u001b[0m\u001b[0;34m:\u001b[0m\u001b[0;34m\u001b[0m\u001b[0m\n\u001b[0;32m---> 11\u001b[0;31m         \u001b[0mdata\u001b[0m \u001b[0;34m=\u001b[0m \u001b[0mf\u001b[0m\u001b[0;34m.\u001b[0m\u001b[0mread\u001b[0m\u001b[0;34m(\u001b[0m\u001b[0;34m)\u001b[0m\u001b[0;34m\u001b[0m\u001b[0m\n\u001b[0m\u001b[1;32m     12\u001b[0m \u001b[0;34m\u001b[0m\u001b[0m\n\u001b[1;32m     13\u001b[0m     \u001b[0;32mreturn\u001b[0m \u001b[0mdata\u001b[0m\u001b[0;34m\u001b[0m\u001b[0m\n",
      "\u001b[0;32m/home/carnd/anaconda3/envs/dl/lib/python3.5/encodings/ascii.py\u001b[0m in \u001b[0;36mdecode\u001b[0;34m(self, input, final)\u001b[0m\n\u001b[1;32m     24\u001b[0m \u001b[0;32mclass\u001b[0m \u001b[0mIncrementalDecoder\u001b[0m\u001b[0;34m(\u001b[0m\u001b[0mcodecs\u001b[0m\u001b[0;34m.\u001b[0m\u001b[0mIncrementalDecoder\u001b[0m\u001b[0;34m)\u001b[0m\u001b[0;34m:\u001b[0m\u001b[0;34m\u001b[0m\u001b[0m\n\u001b[1;32m     25\u001b[0m     \u001b[0;32mdef\u001b[0m \u001b[0mdecode\u001b[0m\u001b[0;34m(\u001b[0m\u001b[0mself\u001b[0m\u001b[0;34m,\u001b[0m \u001b[0minput\u001b[0m\u001b[0;34m,\u001b[0m \u001b[0mfinal\u001b[0m\u001b[0;34m=\u001b[0m\u001b[0;32mFalse\u001b[0m\u001b[0;34m)\u001b[0m\u001b[0;34m:\u001b[0m\u001b[0;34m\u001b[0m\u001b[0m\n\u001b[0;32m---> 26\u001b[0;31m         \u001b[0;32mreturn\u001b[0m \u001b[0mcodecs\u001b[0m\u001b[0;34m.\u001b[0m\u001b[0mascii_decode\u001b[0m\u001b[0;34m(\u001b[0m\u001b[0minput\u001b[0m\u001b[0;34m,\u001b[0m \u001b[0mself\u001b[0m\u001b[0;34m.\u001b[0m\u001b[0merrors\u001b[0m\u001b[0;34m)\u001b[0m\u001b[0;34m[\u001b[0m\u001b[0;36m0\u001b[0m\u001b[0;34m]\u001b[0m\u001b[0;34m\u001b[0m\u001b[0m\n\u001b[0m\u001b[1;32m     27\u001b[0m \u001b[0;34m\u001b[0m\u001b[0m\n\u001b[1;32m     28\u001b[0m \u001b[0;32mclass\u001b[0m \u001b[0mStreamWriter\u001b[0m\u001b[0;34m(\u001b[0m\u001b[0mCodec\u001b[0m\u001b[0;34m,\u001b[0m\u001b[0mcodecs\u001b[0m\u001b[0;34m.\u001b[0m\u001b[0mStreamWriter\u001b[0m\u001b[0;34m)\u001b[0m\u001b[0;34m:\u001b[0m\u001b[0;34m\u001b[0m\u001b[0m\n",
      "\u001b[0;31mUnicodeDecodeError\u001b[0m: 'ascii' codec can't decode byte 0xc2 in position 17: ordinal not in range(128)"
     ]
    }
   ],
   "source": [
    "\"\"\"\n",
    "DON'T MODIFY ANYTHING IN THIS CELL\n",
    "\"\"\"\n",
    "# Preprocess Training, Validation, and Testing Data\n",
    "helper.preprocess_and_save_data(data_dir, token_lookup, create_lookup_tables)"
   ]
  },
  {
   "cell_type": "markdown",
   "metadata": {
    "deletable": true,
    "editable": true
   },
   "source": [
    "# Check Point\n",
    "This is your first checkpoint. If you ever decide to come back to this notebook or have to restart the notebook, you can start from here. The preprocessed data has been saved to disk."
   ]
  },
  {
   "cell_type": "code",
   "execution_count": 9,
   "metadata": {
    "collapsed": false,
    "deletable": true,
    "editable": true
   },
   "outputs": [],
   "source": [
    "\"\"\"\n",
    "DON'T MODIFY ANYTHING IN THIS CELL\n",
    "\"\"\"\n",
    "import helper\n",
    "import numpy as np\n",
    "import problem_unittests as tests\n",
    "\n",
    "int_text, vocab_to_int, int_to_vocab, token_dict = helper.load_preprocess()"
   ]
  },
  {
   "cell_type": "markdown",
   "metadata": {
    "deletable": true,
    "editable": true
   },
   "source": [
    "## Build the Neural Network\n",
    "You'll build the components necessary to build a RNN by implementing the following functions below:\n",
    "- get_inputs\n",
    "- get_init_cell\n",
    "- get_embed\n",
    "- build_rnn\n",
    "- build_nn\n",
    "- get_batches\n",
    "\n",
    "### Check the Version of TensorFlow and Access to GPU"
   ]
  },
  {
   "cell_type": "code",
   "execution_count": 10,
   "metadata": {
    "collapsed": false,
    "deletable": true,
    "editable": true
   },
   "outputs": [
    {
     "name": "stdout",
     "output_type": "stream",
     "text": [
      "TensorFlow Version: 1.0.0\n",
      "Default GPU Device: /gpu:0\n"
     ]
    }
   ],
   "source": [
    "\"\"\"\n",
    "DON'T MODIFY ANYTHING IN THIS CELL\n",
    "\"\"\"\n",
    "from distutils.version import LooseVersion\n",
    "import warnings\n",
    "import tensorflow as tf\n",
    "\n",
    "# Check TensorFlow Version\n",
    "assert LooseVersion(tf.__version__) >= LooseVersion('1.0'), 'Please use TensorFlow version 1.0 or newer'\n",
    "print('TensorFlow Version: {}'.format(tf.__version__))\n",
    "\n",
    "# Check for a GPU\n",
    "if not tf.test.gpu_device_name():\n",
    "    warnings.warn('No GPU found. Please use a GPU to train your neural network.')\n",
    "else:\n",
    "    print('Default GPU Device: {}'.format(tf.test.gpu_device_name()))"
   ]
  },
  {
   "cell_type": "code",
   "execution_count": 11,
   "metadata": {
    "collapsed": false,
    "deletable": true,
    "editable": true
   },
   "outputs": [
    {
     "name": "stdout",
     "output_type": "stream",
     "text": [
      "Tests Passed\n"
     ]
    }
   ],
   "source": [
    "def get_inputs():\n",
    "    \"\"\"\n",
    "    Create TF Placeholders for input, targets, and learning rate.\n",
    "    :return: Tuple (input, targets, learning rate)\n",
    "    \"\"\"\n",
    "    # TODO: Implement Function\n",
    "    Input=tf.placeholder(tf.int32, tf.TensorShape([None,None]),name=\"input\")\n",
    "    targets=tf.placeholder(tf.int32, tf.TensorShape([None,None]), name=\"targets\")\n",
    "    learingRate=tf.placeholder(tf.float32, name=\"learingRate\")\n",
    "    \n",
    "    return (Input, targets, learingRate)\n",
    "\n",
    "\n",
    "\"\"\"\n",
    "DON'T MODIFY ANYTHING IN THIS CELL THAT IS BELOW THIS LINE\n",
    "\"\"\"\n",
    "tests.test_get_inputs(get_inputs)"
   ]
  },
  {
   "cell_type": "markdown",
   "metadata": {
    "deletable": true,
    "editable": true
   },
   "source": [
    "### Input\n",
    "Implement the `get_inputs()` function to create TF Placeholders for the Neural Network.  It should create the following placeholders:\n",
    "- Input text placeholder named \"input\" using the [TF Placeholder](https://www.tensorflow.org/api_docs/python/tf/placeholder) `name` parameter.\n",
    "- Targets placeholder\n",
    "- Learning Rate placeholder\n",
    "\n",
    "Return the placeholders in the following the tuple `(Input, Targets, LearingRate)`"
   ]
  },
  {
   "cell_type": "markdown",
   "metadata": {
    "deletable": true,
    "editable": true
   },
   "source": [
    "### Build RNN Cell and Initialize\n",
    "Stack one or more [`BasicLSTMCells`](https://www.tensorflow.org/api_docs/python/tf/contrib/rnn/BasicLSTMCell) in a [`MultiRNNCell`](https://www.tensorflow.org/api_docs/python/tf/contrib/rnn/MultiRNNCell).\n",
    "- The Rnn size should be set using `rnn_size`\n",
    "- Initalize Cell State using the MultiRNNCell's [`zero_state()`](https://www.tensorflow.org/api_docs/python/tf/contrib/rnn/MultiRNNCell#zero_state) function\n",
    "    - Apply the name \"initial_state\" to the initial state using [`tf.identity()`](https://www.tensorflow.org/api_docs/python/tf/identity)\n",
    "\n",
    "Return the cell and initial state in the following tuple `(Cell, InitialState)`"
   ]
  },
  {
   "cell_type": "code",
   "execution_count": 12,
   "metadata": {
    "collapsed": false,
    "deletable": true,
    "editable": true
   },
   "outputs": [
    {
     "name": "stdout",
     "output_type": "stream",
     "text": [
      "Tests Passed\n"
     ]
    }
   ],
   "source": [
    "def get_init_cell(batch_size, rnn_size):\n",
    "    \"\"\"\n",
    "    Create an RNN Cell and initialize it.\n",
    "    :param batch_size: Size of batches\n",
    "    :param rnn_size: Size of RNNs\n",
    "    :return: Tuple (cell, initialize state)\n",
    "    \"\"\"\n",
    "    # TODO: Implement Function\n",
    "    lstm= tf.contrib.rnn.BasicLSTMCell(rnn_size)\n",
    "    #drop = tf.contrib.rnn.DropoutWrapper(lstm, output_keep_prob=0.9)\n",
    "    cell = tf.contrib.rnn.MultiRNNCell([lstm] * 2)\n",
    "    initialize_state = cell.zero_state(batch_size, tf.float32)\n",
    "    initialize_state= tf.identity(initialize_state, name='initial_state')\n",
    "    #print(cell)\n",
    "    #print(initialize_state)\n",
    "    return (cell, initialize_state)\n",
    "\n",
    "\n",
    "\"\"\"\n",
    "DON'T MODIFY ANYTHING IN THIS CELL THAT IS BELOW THIS LINE\n",
    "\"\"\"\n",
    "tests.test_get_init_cell(get_init_cell)"
   ]
  },
  {
   "cell_type": "markdown",
   "metadata": {
    "deletable": true,
    "editable": true
   },
   "source": [
    "### Word Embedding\n",
    "Apply embedding to `input_data` using TensorFlow.  Return the embedded sequence."
   ]
  },
  {
   "cell_type": "code",
   "execution_count": 13,
   "metadata": {
    "collapsed": false,
    "deletable": true,
    "editable": true
   },
   "outputs": [
    {
     "name": "stdout",
     "output_type": "stream",
     "text": [
      "Tests Passed\n"
     ]
    }
   ],
   "source": [
    "def get_embed(input_data, vocab_size, embed_dim):\n",
    "    \"\"\"\n",
    "    Create embedding for <input_data>.\n",
    "    :param input_data: TF placeholder for text input.\n",
    "    :param vocab_size: Number of words in vocabulary.\n",
    "    :param embed_dim: Number of embedding dimensions\n",
    "    :return: Embedded input.\n",
    "    \"\"\"\n",
    "    # TODO: Implement Function\n",
    "    embedding = tf.Variable(tf.random_uniform((vocab_size, embed_dim), -1, 1))\n",
    "    embed = tf.nn.embedding_lookup(embedding, input_data)\n",
    "    #print(embed)\n",
    "    return embed\n",
    "\n",
    "\n",
    "\"\"\"\n",
    "DON'T MODIFY ANYTHING IN THIS CELL THAT IS BELOW THIS LINE\n",
    "\"\"\"\n",
    "tests.test_get_embed(get_embed)"
   ]
  },
  {
   "cell_type": "markdown",
   "metadata": {
    "deletable": true,
    "editable": true
   },
   "source": [
    "### Build RNN\n",
    "You created a RNN Cell in the `get_init_cell()` function.  Time to use the cell to create a RNN.\n",
    "- Build the RNN using the [`tf.nn.dynamic_rnn()`](https://www.tensorflow.org/api_docs/python/tf/nn/dynamic_rnn)\n",
    " - Apply the name \"final_state\" to the final state using [`tf.identity()`](https://www.tensorflow.org/api_docs/python/tf/identity)\n",
    "\n",
    "Return the outputs and final_state state in the following tuple `(Outputs, FinalState)` "
   ]
  },
  {
   "cell_type": "code",
   "execution_count": 14,
   "metadata": {
    "collapsed": false,
    "deletable": true,
    "editable": true
   },
   "outputs": [
    {
     "name": "stdout",
     "output_type": "stream",
     "text": [
      "Tests Passed\n"
     ]
    }
   ],
   "source": [
    "def build_rnn(cell, inputs):\n",
    "    \"\"\"\n",
    "    Create a RNN using a RNN Cell\n",
    "    :param cell: RNN Cell\n",
    "    :param inputs: Input text data\n",
    "    :return: Tuple (Outputs, Final State)\n",
    "    \"\"\"\n",
    "    # TODO: Implement Function\n",
    "    Outputs , FinalState= tf.nn.dynamic_rnn(cell, inputs , dtype=tf.float32)\n",
    "    FinalState= tf.identity(FinalState, name='final_state')\n",
    "    #print(Outputs , FinalState)\n",
    "    return (Outputs, FinalState)\n",
    "\n",
    "\n",
    "\"\"\"\n",
    "DON'T MODIFY ANYTHING IN THIS CELL THAT IS BELOW THIS LINE\n",
    "\"\"\"\n",
    "tests.test_build_rnn(build_rnn)"
   ]
  },
  {
   "cell_type": "markdown",
   "metadata": {
    "deletable": true,
    "editable": true
   },
   "source": [
    "### Build the Neural Network\n",
    "Apply the functions you implemented above to:\n",
    "- Apply embedding to `input_data` using your `get_embed(input_data, vocab_size, embed_dim)` function.\n",
    "- Build RNN using `cell` and your `build_rnn(cell, inputs)` function.\n",
    "- Apply a fully connected layer with a linear activation and `vocab_size` as the number of outputs.\n",
    "\n",
    "Return the logits and final state in the following tuple (Logits, FinalState) "
   ]
  },
  {
   "cell_type": "code",
   "execution_count": 15,
   "metadata": {
    "collapsed": false,
    "deletable": true,
    "editable": true
   },
   "outputs": [
    {
     "name": "stdout",
     "output_type": "stream",
     "text": [
      "Tests Passed\n"
     ]
    }
   ],
   "source": [
    "def build_nn(cell, rnn_size, input_data, vocab_size):\n",
    "    \"\"\"\n",
    "    Build part of the neural network\n",
    "    :param cell: RNN cell\n",
    "    :param rnn_size: Size of rnns\n",
    "    :param input_data: Input data\n",
    "    :param vocab_size: Vocabulary size\n",
    "    :return: Tuple (Logits, FinalState)\n",
    "    \"\"\"\n",
    "    # TODO: Implement Function\n",
    "    \n",
    "    embed= get_embed(input_data, vocab_size, 300)\n",
    "    Outputs, FinalState= build_rnn(cell, embed)\n",
    "    \n",
    "    Logits= tf.contrib.layers.fully_connected(Outputs, vocab_size,activation_fn=None ,weights_initializer=tf.truncated_normal_initializer(stddev=1.8))         \n",
    "    \n",
    "    return (Logits, FinalState)\n",
    "\n",
    "\n",
    "\"\"\"\n",
    "DON'T MODIFY ANYTHING IN THIS CELL THAT IS BELOW THIS LINE\n",
    "\"\"\"\n",
    "tests.test_build_nn(build_nn)"
   ]
  },
  {
   "cell_type": "markdown",
   "metadata": {
    "deletable": true,
    "editable": true
   },
   "source": [
    "### Batches\n",
    "Implement `get_batches` to create batches of input and targets using `int_text`.  The batches should be a Numpy array with the shape `(number of batches, 2, batch size, sequence length)`. Each batch contains two elements:\n",
    "- The first element is a single batch of **input** with the shape `[batch size, sequence length]`\n",
    "- The second element is a single batch of **targets** with the shape `[batch size, sequence length]`\n",
    "\n",
    "If you can't fill the last batch with enough data, drop the last batch.\n",
    "\n",
    "For exmple, `get_batches([1, 2, 3, 4, 5, 6, 7, 8, 9, 10, 11, 12, 13, 14, 15], 2, 3)` would return a Numpy array of the following:\n",
    "```\n",
    "[\n",
    "  # First Batch\n",
    "  [\n",
    "    # Batch of Input\n",
    "    [[ 1  2  3], [ 7  8  9]],\n",
    "    # Batch of targets\n",
    "    [[ 2  3  4], [ 8  9 10]]\n",
    "  ],\n",
    " \n",
    "  # Second Batch\n",
    "  [\n",
    "    # Batch of Input\n",
    "    [[ 4  5  6], [10 11 12]],\n",
    "    # Batch of targets\n",
    "    [[ 5  6  7], [11 12 13]]\n",
    "  ]\n",
    "]\n",
    "```"
   ]
  },
  {
   "cell_type": "code",
   "execution_count": 16,
   "metadata": {
    "collapsed": false,
    "deletable": true,
    "editable": true
   },
   "outputs": [
    {
     "name": "stdout",
     "output_type": "stream",
     "text": [
      "Tests Passed\n"
     ]
    }
   ],
   "source": [
    "def get_batches(int_text, batch_size, seq_length):\n",
    "    \"\"\"\n",
    "    Return batches of input and target\n",
    "    :param int_text: Text with the words replaced by their ids\n",
    "    :param batch_size: The size of batch\n",
    "    :param seq_length: The length of sequence\n",
    "    :return: Batches as a Numpy array\n",
    "    \"\"\"\n",
    "    # TODO: Implement Function\n",
    "    \n",
    "    slice_size = batch_size * seq_length\n",
    "    n_batches = int(len(int_text) / slice_size)\n",
    "    \n",
    "    input_data = np.array(int_text[: n_batches*slice_size])\n",
    "    target_data = np.array(int_text[1: n_batches*slice_size + 1])\n",
    "    \n",
    "    input_data = np.stack(np.split(input_data, batch_size))\n",
    "    target_data = np.stack(np.split(target_data, batch_size))\n",
    "        \n",
    "    fin_batches=[]\n",
    "    \n",
    "    for n in range(n_batches):\n",
    "        batches_of_inandout=[input_data[:, n*seq_length: (n+1)*seq_length], target_data[:, n*seq_length: (n+1)*seq_length]]\n",
    "        fin_batches.append(batches_of_inandout)\n",
    "   \n",
    "    #print(np.array(fin_batches))\n",
    "    return np.array(fin_batches)\n",
    "\n",
    "\n",
    "\"\"\"\n",
    "DON'T MODIFY ANYTHING IN THIS CELL THAT IS BELOW THIS LINE\n",
    "\"\"\"\n",
    "tests.test_get_batches(get_batches)"
   ]
  },
  {
   "cell_type": "markdown",
   "metadata": {
    "deletable": true,
    "editable": true
   },
   "source": [
    "## Neural Network Training\n",
    "### Hyperparameters\n",
    "Tune the following parameters:\n",
    "\n",
    "- Set `num_epochs` to the number of epochs.\n",
    "- Set `batch_size` to the batch size.\n",
    "- Set `rnn_size` to the size of the RNNs.\n",
    "- Set `seq_length` to the length of sequence.\n",
    "- Set `learning_rate` to the learning rate.\n",
    "- Set `show_every_n_batches` to the number of batches the neural network should print progress."
   ]
  },
  {
   "cell_type": "code",
   "execution_count": 17,
   "metadata": {
    "collapsed": true,
    "deletable": true,
    "editable": true
   },
   "outputs": [],
   "source": [
    "# Number of Epochs #loss:2.301\n",
    "num_epochs = 30          \n",
    "# Batch Size\n",
    "batch_size = 100         #100\n",
    "# RNN Size\n",
    "rnn_size = 512\n",
    "# Sequence Length\n",
    "seq_length = 20          #25\n",
    "# Learning Rate\n",
    "learning_rate = 0.001    #0.001\n",
    "# Show stats for every n number of batches\n",
    "show_every_n_batches = 2\n",
    "\n",
    "\"\"\"\n",
    "DON'T MODIFY ANYTHING IN THIS CELL THAT IS BELOW THIS LINE\n",
    "\"\"\"\n",
    "save_dir = './save'"
   ]
  },
  {
   "cell_type": "markdown",
   "metadata": {
    "deletable": true,
    "editable": true
   },
   "source": [
    "### Build the Graph\n",
    "Build the graph using the neural network you implemented."
   ]
  },
  {
   "cell_type": "code",
   "execution_count": 18,
   "metadata": {
    "collapsed": false,
    "deletable": true,
    "editable": true
   },
   "outputs": [],
   "source": [
    "\"\"\"\n",
    "DON'T MODIFY ANYTHING IN THIS CELL\n",
    "\"\"\"\n",
    "from tensorflow.contrib import seq2seq\n",
    "\n",
    "train_graph = tf.Graph()\n",
    "with train_graph.as_default():\n",
    "    vocab_size = len(int_to_vocab)\n",
    "    input_text, targets, lr = get_inputs()\n",
    "    input_data_shape = tf.shape(input_text)\n",
    "    cell, initial_state = get_init_cell(input_data_shape[0], rnn_size)\n",
    "    logits, final_state = build_nn(cell, rnn_size, input_text, vocab_size)\n",
    "\n",
    "    # Probabilities for generating words\n",
    "    probs = tf.nn.softmax(logits, name='probs')\n",
    "\n",
    "    # Loss function\n",
    "    cost = seq2seq.sequence_loss(\n",
    "        logits,\n",
    "        targets,\n",
    "        tf.ones([input_data_shape[0], input_data_shape[1]]))\n",
    "\n",
    "    # Optimizer\n",
    "    optimizer = tf.train.AdamOptimizer(lr)\n",
    "\n",
    "    # Gradient Clipping\n",
    "    gradients = optimizer.compute_gradients(cost)\n",
    "    capped_gradients = [(tf.clip_by_value(grad, -1., 1.), var) for grad, var in gradients]\n",
    "    train_op = optimizer.apply_gradients(capped_gradients)"
   ]
  },
  {
   "cell_type": "markdown",
   "metadata": {
    "deletable": true,
    "editable": true
   },
   "source": [
    "## Train\n",
    "Train the neural network on the preprocessed data.  If you have a hard time getting a good loss, check the [forms](https://discussions.udacity.com/) to see if anyone is having the same problem."
   ]
  },
  {
   "cell_type": "code",
   "execution_count": 19,
   "metadata": {
    "collapsed": false,
    "deletable": true,
    "editable": true
   },
   "outputs": [
    {
     "name": "stdout",
     "output_type": "stream",
     "text": [
      "Epoch   0 Batch    0/34   train_loss = 9.738\n",
      "Epoch   0 Batch    2/34   train_loss = 9.373\n",
      "Epoch   0 Batch    4/34   train_loss = 8.918\n",
      "Epoch   0 Batch    6/34   train_loss = 8.152\n",
      "Epoch   0 Batch    8/34   train_loss = 7.681\n",
      "Epoch   0 Batch   10/34   train_loss = 7.376\n",
      "Epoch   0 Batch   12/34   train_loss = 7.276\n",
      "Epoch   0 Batch   14/34   train_loss = 7.120\n",
      "Epoch   0 Batch   16/34   train_loss = 7.104\n",
      "Epoch   0 Batch   18/34   train_loss = 6.750\n",
      "Epoch   0 Batch   20/34   train_loss = 6.751\n",
      "Epoch   0 Batch   22/34   train_loss = 6.626\n",
      "Epoch   0 Batch   24/34   train_loss = 6.530\n",
      "Epoch   0 Batch   26/34   train_loss = 6.520\n",
      "Epoch   0 Batch   28/34   train_loss = 6.525\n",
      "Epoch   0 Batch   30/34   train_loss = 6.319\n",
      "Epoch   0 Batch   32/34   train_loss = 6.065\n",
      "Epoch   1 Batch    0/34   train_loss = 5.910\n",
      "Epoch   1 Batch    2/34   train_loss = 6.048\n",
      "Epoch   1 Batch    4/34   train_loss = 6.085\n",
      "Epoch   1 Batch    6/34   train_loss = 6.022\n",
      "Epoch   1 Batch    8/34   train_loss = 5.928\n",
      "Epoch   1 Batch   10/34   train_loss = 5.844\n",
      "Epoch   1 Batch   12/34   train_loss = 5.884\n",
      "Epoch   1 Batch   14/34   train_loss = 5.929\n",
      "Epoch   1 Batch   16/34   train_loss = 5.991\n",
      "Epoch   1 Batch   18/34   train_loss = 5.812\n",
      "Epoch   1 Batch   20/34   train_loss = 5.760\n",
      "Epoch   1 Batch   22/34   train_loss = 5.734\n",
      "Epoch   1 Batch   24/34   train_loss = 5.686\n",
      "Epoch   1 Batch   26/34   train_loss = 5.775\n",
      "Epoch   1 Batch   28/34   train_loss = 5.804\n",
      "Epoch   1 Batch   30/34   train_loss = 5.630\n",
      "Epoch   1 Batch   32/34   train_loss = 5.404\n",
      "Epoch   2 Batch    0/34   train_loss = 5.338\n",
      "Epoch   2 Batch    2/34   train_loss = 5.470\n",
      "Epoch   2 Batch    4/34   train_loss = 5.528\n",
      "Epoch   2 Batch    6/34   train_loss = 5.478\n",
      "Epoch   2 Batch    8/34   train_loss = 5.377\n",
      "Epoch   2 Batch   10/34   train_loss = 5.327\n",
      "Epoch   2 Batch   12/34   train_loss = 5.378\n",
      "Epoch   2 Batch   14/34   train_loss = 5.464\n",
      "Epoch   2 Batch   16/34   train_loss = 5.536\n",
      "Epoch   2 Batch   18/34   train_loss = 5.342\n",
      "Epoch   2 Batch   20/34   train_loss = 5.295\n",
      "Epoch   2 Batch   22/34   train_loss = 5.269\n",
      "Epoch   2 Batch   24/34   train_loss = 5.226\n",
      "Epoch   2 Batch   26/34   train_loss = 5.312\n",
      "Epoch   2 Batch   28/34   train_loss = 5.348\n",
      "Epoch   2 Batch   30/34   train_loss = 5.215\n",
      "Epoch   2 Batch   32/34   train_loss = 4.977\n",
      "Epoch   3 Batch    0/34   train_loss = 4.900\n",
      "Epoch   3 Batch    2/34   train_loss = 5.051\n",
      "Epoch   3 Batch    4/34   train_loss = 5.127\n",
      "Epoch   3 Batch    6/34   train_loss = 5.074\n",
      "Epoch   3 Batch    8/34   train_loss = 4.962\n",
      "Epoch   3 Batch   10/34   train_loss = 4.913\n",
      "Epoch   3 Batch   12/34   train_loss = 5.004\n",
      "Epoch   3 Batch   14/34   train_loss = 5.087\n",
      "Epoch   3 Batch   16/34   train_loss = 5.164\n",
      "Epoch   3 Batch   18/34   train_loss = 4.968\n",
      "Epoch   3 Batch   20/34   train_loss = 4.912\n",
      "Epoch   3 Batch   22/34   train_loss = 4.897\n",
      "Epoch   3 Batch   24/34   train_loss = 4.849\n",
      "Epoch   3 Batch   26/34   train_loss = 4.938\n",
      "Epoch   3 Batch   28/34   train_loss = 4.949\n",
      "Epoch   3 Batch   30/34   train_loss = 4.855\n",
      "Epoch   3 Batch   32/34   train_loss = 4.640\n",
      "Epoch   4 Batch    0/34   train_loss = 4.514\n",
      "Epoch   4 Batch    2/34   train_loss = 4.691\n",
      "Epoch   4 Batch    4/34   train_loss = 4.755\n",
      "Epoch   4 Batch    6/34   train_loss = 4.716\n",
      "Epoch   4 Batch    8/34   train_loss = 4.587\n",
      "Epoch   4 Batch   10/34   train_loss = 4.540\n",
      "Epoch   4 Batch   12/34   train_loss = 4.651\n",
      "Epoch   4 Batch   14/34   train_loss = 4.734\n",
      "Epoch   4 Batch   16/34   train_loss = 4.788\n",
      "Epoch   4 Batch   18/34   train_loss = 4.611\n",
      "Epoch   4 Batch   20/34   train_loss = 4.587\n",
      "Epoch   4 Batch   22/34   train_loss = 4.532\n",
      "Epoch   4 Batch   24/34   train_loss = 4.463\n",
      "Epoch   4 Batch   26/34   train_loss = 4.576\n",
      "Epoch   4 Batch   28/34   train_loss = 4.567\n",
      "Epoch   4 Batch   30/34   train_loss = 4.490\n",
      "Epoch   4 Batch   32/34   train_loss = 4.300\n",
      "Epoch   5 Batch    0/34   train_loss = 4.121\n",
      "Epoch   5 Batch    2/34   train_loss = 4.311\n",
      "Epoch   5 Batch    4/34   train_loss = 4.370\n",
      "Epoch   5 Batch    6/34   train_loss = 4.330\n",
      "Epoch   5 Batch    8/34   train_loss = 4.198\n",
      "Epoch   5 Batch   10/34   train_loss = 4.159\n",
      "Epoch   5 Batch   12/34   train_loss = 4.269\n",
      "Epoch   5 Batch   14/34   train_loss = 4.345\n",
      "Epoch   5 Batch   16/34   train_loss = 4.369\n",
      "Epoch   5 Batch   18/34   train_loss = 4.203\n",
      "Epoch   5 Batch   20/34   train_loss = 4.190\n",
      "Epoch   5 Batch   22/34   train_loss = 4.132\n",
      "Epoch   5 Batch   24/34   train_loss = 4.060\n",
      "Epoch   5 Batch   26/34   train_loss = 4.174\n",
      "Epoch   5 Batch   28/34   train_loss = 4.155\n",
      "Epoch   5 Batch   30/34   train_loss = 4.101\n",
      "Epoch   5 Batch   32/34   train_loss = 3.929\n",
      "Epoch   6 Batch    0/34   train_loss = 3.699\n",
      "Epoch   6 Batch    2/34   train_loss = 3.878\n",
      "Epoch   6 Batch    4/34   train_loss = 3.924\n",
      "Epoch   6 Batch    6/34   train_loss = 3.898\n",
      "Epoch   6 Batch    8/34   train_loss = 3.781\n",
      "Epoch   6 Batch   10/34   train_loss = 3.741\n",
      "Epoch   6 Batch   12/34   train_loss = 3.815\n",
      "Epoch   6 Batch   14/34   train_loss = 3.886\n",
      "Epoch   6 Batch   16/34   train_loss = 3.866\n",
      "Epoch   6 Batch   18/34   train_loss = 3.708\n",
      "Epoch   6 Batch   20/34   train_loss = 3.725\n",
      "Epoch   6 Batch   22/34   train_loss = 3.651\n",
      "Epoch   6 Batch   24/34   train_loss = 3.573\n",
      "Epoch   6 Batch   26/34   train_loss = 3.686\n",
      "Epoch   6 Batch   28/34   train_loss = 3.669\n",
      "Epoch   6 Batch   30/34   train_loss = 3.645\n",
      "Epoch   6 Batch   32/34   train_loss = 3.482\n",
      "Epoch   7 Batch    0/34   train_loss = 3.252\n",
      "Epoch   7 Batch    2/34   train_loss = 3.402\n",
      "Epoch   7 Batch    4/34   train_loss = 3.449\n",
      "Epoch   7 Batch    6/34   train_loss = 3.409\n",
      "Epoch   7 Batch    8/34   train_loss = 3.313\n",
      "Epoch   7 Batch   10/34   train_loss = 3.261\n",
      "Epoch   7 Batch   12/34   train_loss = 3.322\n",
      "Epoch   7 Batch   14/34   train_loss = 3.408\n",
      "Epoch   7 Batch   16/34   train_loss = 3.321\n",
      "Epoch   7 Batch   18/34   train_loss = 3.180\n",
      "Epoch   7 Batch   20/34   train_loss = 3.256\n",
      "Epoch   7 Batch   22/34   train_loss = 3.191\n",
      "Epoch   7 Batch   24/34   train_loss = 3.096\n",
      "Epoch   7 Batch   26/34   train_loss = 3.222\n",
      "Epoch   7 Batch   28/34   train_loss = 3.212\n",
      "Epoch   7 Batch   30/34   train_loss = 3.186\n",
      "Epoch   7 Batch   32/34   train_loss = 3.133\n",
      "Epoch   8 Batch    0/34   train_loss = 2.857\n",
      "Epoch   8 Batch    2/34   train_loss = 3.047\n",
      "Epoch   8 Batch    4/34   train_loss = 3.114\n",
      "Epoch   8 Batch    6/34   train_loss = 3.024\n",
      "Epoch   8 Batch    8/34   train_loss = 2.891\n",
      "Epoch   8 Batch   10/34   train_loss = 2.888\n",
      "Epoch   8 Batch   12/34   train_loss = 2.914\n",
      "Epoch   8 Batch   14/34   train_loss = 2.987\n",
      "Epoch   8 Batch   16/34   train_loss = 2.891\n",
      "Epoch   8 Batch   18/34   train_loss = 2.819\n",
      "Epoch   8 Batch   20/34   train_loss = 2.832\n",
      "Epoch   8 Batch   22/34   train_loss = 2.795\n",
      "Epoch   8 Batch   24/34   train_loss = 2.755\n",
      "Epoch   8 Batch   26/34   train_loss = 2.802\n",
      "Epoch   8 Batch   28/34   train_loss = 2.773\n",
      "Epoch   8 Batch   30/34   train_loss = 2.857\n",
      "Epoch   8 Batch   32/34   train_loss = 2.755\n",
      "Epoch   9 Batch    0/34   train_loss = 2.530\n",
      "Epoch   9 Batch    2/34   train_loss = 2.660\n",
      "Epoch   9 Batch    4/34   train_loss = 2.652\n",
      "Epoch   9 Batch    6/34   train_loss = 2.630\n",
      "Epoch   9 Batch    8/34   train_loss = 2.511\n",
      "Epoch   9 Batch   10/34   train_loss = 2.436\n",
      "Epoch   9 Batch   12/34   train_loss = 2.553\n",
      "Epoch   9 Batch   14/34   train_loss = 2.496\n",
      "Epoch   9 Batch   16/34   train_loss = 2.472\n",
      "Epoch   9 Batch   18/34   train_loss = 2.452\n",
      "Epoch   9 Batch   20/34   train_loss = 2.376\n",
      "Epoch   9 Batch   22/34   train_loss = 2.370\n",
      "Epoch   9 Batch   24/34   train_loss = 2.363\n",
      "Epoch   9 Batch   26/34   train_loss = 2.321\n",
      "Epoch   9 Batch   28/34   train_loss = 2.385\n",
      "Epoch   9 Batch   30/34   train_loss = 2.357\n",
      "Epoch   9 Batch   32/34   train_loss = 2.313\n",
      "Epoch  10 Batch    0/34   train_loss = 2.162\n",
      "Epoch  10 Batch    2/34   train_loss = 2.234\n",
      "Epoch  10 Batch    4/34   train_loss = 2.248\n",
      "Epoch  10 Batch    6/34   train_loss = 2.177\n",
      "Epoch  10 Batch    8/34   train_loss = 2.059\n",
      "Epoch  10 Batch   10/34   train_loss = 2.011\n",
      "Epoch  10 Batch   12/34   train_loss = 2.141\n",
      "Epoch  10 Batch   14/34   train_loss = 2.084\n",
      "Epoch  10 Batch   16/34   train_loss = 2.079\n",
      "Epoch  10 Batch   18/34   train_loss = 2.034\n",
      "Epoch  10 Batch   20/34   train_loss = 2.031\n",
      "Epoch  10 Batch   22/34   train_loss = 1.917\n",
      "Epoch  10 Batch   24/34   train_loss = 1.964\n",
      "Epoch  10 Batch   26/34   train_loss = 2.016\n",
      "Epoch  10 Batch   28/34   train_loss = 1.888\n",
      "Epoch  10 Batch   30/34   train_loss = 1.937\n",
      "Epoch  10 Batch   32/34   train_loss = 1.882\n",
      "Epoch  11 Batch    0/34   train_loss = 1.780\n",
      "Epoch  11 Batch    2/34   train_loss = 1.812\n",
      "Epoch  11 Batch    4/34   train_loss = 1.855\n",
      "Epoch  11 Batch    6/34   train_loss = 1.850\n",
      "Epoch  11 Batch    8/34   train_loss = 1.699\n",
      "Epoch  11 Batch   10/34   train_loss = 1.720\n",
      "Epoch  11 Batch   12/34   train_loss = 1.734\n",
      "Epoch  11 Batch   14/34   train_loss = 1.744\n",
      "Epoch  11 Batch   16/34   train_loss = 1.751\n",
      "Epoch  11 Batch   18/34   train_loss = 1.698\n",
      "Epoch  11 Batch   20/34   train_loss = 1.739\n",
      "Epoch  11 Batch   22/34   train_loss = 1.565\n",
      "Epoch  11 Batch   24/34   train_loss = 1.618\n",
      "Epoch  11 Batch   26/34   train_loss = 1.622\n",
      "Epoch  11 Batch   28/34   train_loss = 1.623\n",
      "Epoch  11 Batch   30/34   train_loss = 1.571\n",
      "Epoch  11 Batch   32/34   train_loss = 1.553\n",
      "Epoch  12 Batch    0/34   train_loss = 1.480\n",
      "Epoch  12 Batch    2/34   train_loss = 1.498\n",
      "Epoch  12 Batch    4/34   train_loss = 1.527\n",
      "Epoch  12 Batch    6/34   train_loss = 1.526\n",
      "Epoch  12 Batch    8/34   train_loss = 1.378\n",
      "Epoch  12 Batch   10/34   train_loss = 1.451\n",
      "Epoch  12 Batch   12/34   train_loss = 1.462\n",
      "Epoch  12 Batch   14/34   train_loss = 1.369\n",
      "Epoch  12 Batch   16/34   train_loss = 1.566\n",
      "Epoch  12 Batch   18/34   train_loss = 1.350\n",
      "Epoch  12 Batch   20/34   train_loss = 1.389\n",
      "Epoch  12 Batch   22/34   train_loss = 1.300\n",
      "Epoch  12 Batch   24/34   train_loss = 1.361\n",
      "Epoch  12 Batch   26/34   train_loss = 1.393\n",
      "Epoch  12 Batch   28/34   train_loss = 1.360\n",
      "Epoch  12 Batch   30/34   train_loss = 1.312\n",
      "Epoch  12 Batch   32/34   train_loss = 1.255\n",
      "Epoch  13 Batch    0/34   train_loss = 1.205\n",
      "Epoch  13 Batch    2/34   train_loss = 1.271\n",
      "Epoch  13 Batch    4/34   train_loss = 1.285\n",
      "Epoch  13 Batch    6/34   train_loss = 1.287\n",
      "Epoch  13 Batch    8/34   train_loss = 1.115\n",
      "Epoch  13 Batch   10/34   train_loss = 1.161\n",
      "Epoch  13 Batch   12/34   train_loss = 1.137\n",
      "Epoch  13 Batch   14/34   train_loss = 1.170\n",
      "Epoch  13 Batch   16/34   train_loss = 1.217\n",
      "Epoch  13 Batch   18/34   train_loss = 1.150\n",
      "Epoch  13 Batch   20/34   train_loss = 1.178\n",
      "Epoch  13 Batch   22/34   train_loss = 1.089\n",
      "Epoch  13 Batch   24/34   train_loss = 1.112\n",
      "Epoch  13 Batch   26/34   train_loss = 1.131\n",
      "Epoch  13 Batch   28/34   train_loss = 1.151\n",
      "Epoch  13 Batch   30/34   train_loss = 1.043\n",
      "Epoch  13 Batch   32/34   train_loss = 1.030\n",
      "Epoch  14 Batch    0/34   train_loss = 1.020\n",
      "Epoch  14 Batch    2/34   train_loss = 1.101\n",
      "Epoch  14 Batch    4/34   train_loss = 1.135\n",
      "Epoch  14 Batch    6/34   train_loss = 1.146\n",
      "Epoch  14 Batch    8/34   train_loss = 0.974\n",
      "Epoch  14 Batch   10/34   train_loss = 0.967\n",
      "Epoch  14 Batch   12/34   train_loss = 1.030\n",
      "Epoch  14 Batch   14/34   train_loss = 1.037\n",
      "Epoch  14 Batch   16/34   train_loss = 1.025\n",
      "Epoch  14 Batch   18/34   train_loss = 0.932\n",
      "Epoch  14 Batch   20/34   train_loss = 1.024\n",
      "Epoch  14 Batch   22/34   train_loss = 0.957\n",
      "Epoch  14 Batch   24/34   train_loss = 0.952\n",
      "Epoch  14 Batch   26/34   train_loss = 0.931\n",
      "Epoch  14 Batch   28/34   train_loss = 0.949\n",
      "Epoch  14 Batch   30/34   train_loss = 0.897\n",
      "Epoch  14 Batch   32/34   train_loss = 0.929\n",
      "Epoch  15 Batch    0/34   train_loss = 0.883\n",
      "Epoch  15 Batch    2/34   train_loss = 0.927\n",
      "Epoch  15 Batch    4/34   train_loss = 0.899\n",
      "Epoch  15 Batch    6/34   train_loss = 0.987\n",
      "Epoch  15 Batch    8/34   train_loss = 0.825\n",
      "Epoch  15 Batch   10/34   train_loss = 0.851\n",
      "Epoch  15 Batch   12/34   train_loss = 0.848\n",
      "Epoch  15 Batch   14/34   train_loss = 0.894\n",
      "Epoch  15 Batch   16/34   train_loss = 0.901\n",
      "Epoch  15 Batch   18/34   train_loss = 0.811\n",
      "Epoch  15 Batch   20/34   train_loss = 0.837\n",
      "Epoch  15 Batch   22/34   train_loss = 0.799\n",
      "Epoch  15 Batch   24/34   train_loss = 0.811\n",
      "Epoch  15 Batch   26/34   train_loss = 0.773\n",
      "Epoch  15 Batch   28/34   train_loss = 0.782\n",
      "Epoch  15 Batch   30/34   train_loss = 0.738\n",
      "Epoch  15 Batch   32/34   train_loss = 0.824\n",
      "Epoch  16 Batch    0/34   train_loss = 0.702\n",
      "Epoch  16 Batch    2/34   train_loss = 0.743\n",
      "Epoch  16 Batch    4/34   train_loss = 0.777\n",
      "Epoch  16 Batch    6/34   train_loss = 0.823\n",
      "Epoch  16 Batch    8/34   train_loss = 0.673\n",
      "Epoch  16 Batch   10/34   train_loss = 0.695\n",
      "Epoch  16 Batch   12/34   train_loss = 0.723\n",
      "Epoch  16 Batch   14/34   train_loss = 0.713\n",
      "Epoch  16 Batch   16/34   train_loss = 0.744\n",
      "Epoch  16 Batch   18/34   train_loss = 0.688\n",
      "Epoch  16 Batch   20/34   train_loss = 0.712\n",
      "Epoch  16 Batch   22/34   train_loss = 0.674\n",
      "Epoch  16 Batch   24/34   train_loss = 0.710\n",
      "Epoch  16 Batch   26/34   train_loss = 0.678\n",
      "Epoch  16 Batch   28/34   train_loss = 0.690\n",
      "Epoch  16 Batch   30/34   train_loss = 0.652\n",
      "Epoch  16 Batch   32/34   train_loss = 0.634\n",
      "Epoch  17 Batch    0/34   train_loss = 0.633\n",
      "Epoch  17 Batch    2/34   train_loss = 0.623\n",
      "Epoch  17 Batch    4/34   train_loss = 0.646\n",
      "Epoch  17 Batch    6/34   train_loss = 0.696\n",
      "Epoch  17 Batch    8/34   train_loss = 0.542\n",
      "Epoch  17 Batch   10/34   train_loss = 0.583\n",
      "Epoch  17 Batch   12/34   train_loss = 0.617\n",
      "Epoch  17 Batch   14/34   train_loss = 0.629\n",
      "Epoch  17 Batch   16/34   train_loss = 0.647\n",
      "Epoch  17 Batch   18/34   train_loss = 0.575\n",
      "Epoch  17 Batch   20/34   train_loss = 0.595\n",
      "Epoch  17 Batch   22/34   train_loss = 0.553\n",
      "Epoch  17 Batch   24/34   train_loss = 0.589\n",
      "Epoch  17 Batch   26/34   train_loss = 0.615\n",
      "Epoch  17 Batch   28/34   train_loss = 0.572\n",
      "Epoch  17 Batch   30/34   train_loss = 0.558\n",
      "Epoch  17 Batch   32/34   train_loss = 0.524\n",
      "Epoch  18 Batch    0/34   train_loss = 0.536\n",
      "Epoch  18 Batch    2/34   train_loss = 0.539\n",
      "Epoch  18 Batch    4/34   train_loss = 0.567\n",
      "Epoch  18 Batch    6/34   train_loss = 0.657\n",
      "Epoch  18 Batch    8/34   train_loss = 0.469\n",
      "Epoch  18 Batch   10/34   train_loss = 0.501\n",
      "Epoch  18 Batch   12/34   train_loss = 0.501\n",
      "Epoch  18 Batch   14/34   train_loss = 0.509\n",
      "Epoch  18 Batch   16/34   train_loss = 0.549\n",
      "Epoch  18 Batch   18/34   train_loss = 0.504\n",
      "Epoch  18 Batch   20/34   train_loss = 0.511\n",
      "Epoch  18 Batch   22/34   train_loss = 0.503\n",
      "Epoch  18 Batch   24/34   train_loss = 0.482\n",
      "Epoch  18 Batch   26/34   train_loss = 0.507\n",
      "Epoch  18 Batch   28/34   train_loss = 0.553\n",
      "Epoch  18 Batch   30/34   train_loss = 0.483\n",
      "Epoch  18 Batch   32/34   train_loss = 0.442\n",
      "Epoch  19 Batch    0/34   train_loss = 0.471\n",
      "Epoch  19 Batch    2/34   train_loss = 0.497\n",
      "Epoch  19 Batch    4/34   train_loss = 0.514\n",
      "Epoch  19 Batch    6/34   train_loss = 0.560\n",
      "Epoch  19 Batch    8/34   train_loss = 0.402\n",
      "Epoch  19 Batch   10/34   train_loss = 0.456\n",
      "Epoch  19 Batch   12/34   train_loss = 0.502\n",
      "Epoch  19 Batch   14/34   train_loss = 0.464\n",
      "Epoch  19 Batch   16/34   train_loss = 0.500\n",
      "Epoch  19 Batch   18/34   train_loss = 0.486\n",
      "Epoch  19 Batch   20/34   train_loss = 0.457\n",
      "Epoch  19 Batch   22/34   train_loss = 0.451\n",
      "Epoch  19 Batch   24/34   train_loss = 0.488\n",
      "Epoch  19 Batch   26/34   train_loss = 0.466\n",
      "Epoch  19 Batch   28/34   train_loss = 0.464\n",
      "Epoch  19 Batch   30/34   train_loss = 0.470\n",
      "Epoch  19 Batch   32/34   train_loss = 0.399\n",
      "Epoch  20 Batch    0/34   train_loss = 0.419\n",
      "Epoch  20 Batch    2/34   train_loss = 0.475\n",
      "Epoch  20 Batch    4/34   train_loss = 0.446\n",
      "Epoch  20 Batch    6/34   train_loss = 0.465\n",
      "Epoch  20 Batch    8/34   train_loss = 0.405\n",
      "Epoch  20 Batch   10/34   train_loss = 0.371\n",
      "Epoch  20 Batch   12/34   train_loss = 0.423\n",
      "Epoch  20 Batch   14/34   train_loss = 0.417\n",
      "Epoch  20 Batch   16/34   train_loss = 0.417\n",
      "Epoch  20 Batch   18/34   train_loss = 0.401\n",
      "Epoch  20 Batch   20/34   train_loss = 0.478\n",
      "Epoch  20 Batch   22/34   train_loss = 0.382\n",
      "Epoch  20 Batch   24/34   train_loss = 0.404\n",
      "Epoch  20 Batch   26/34   train_loss = 0.452\n",
      "Epoch  20 Batch   28/34   train_loss = 0.430\n",
      "Epoch  20 Batch   30/34   train_loss = 0.389\n",
      "Epoch  20 Batch   32/34   train_loss = 0.433\n",
      "Epoch  21 Batch    0/34   train_loss = 0.395\n",
      "Epoch  21 Batch    2/34   train_loss = 0.364\n",
      "Epoch  21 Batch    4/34   train_loss = 0.435\n",
      "Epoch  21 Batch    6/34   train_loss = 0.428\n",
      "Epoch  21 Batch    8/34   train_loss = 0.358\n",
      "Epoch  21 Batch   10/34   train_loss = 0.375\n",
      "Epoch  21 Batch   12/34   train_loss = 0.395\n",
      "Epoch  21 Batch   14/34   train_loss = 0.347\n",
      "Epoch  21 Batch   16/34   train_loss = 0.372\n",
      "Epoch  21 Batch   18/34   train_loss = 0.360\n",
      "Epoch  21 Batch   20/34   train_loss = 0.380\n",
      "Epoch  21 Batch   22/34   train_loss = 0.327\n",
      "Epoch  21 Batch   24/34   train_loss = 0.429\n",
      "Epoch  21 Batch   26/34   train_loss = 0.373\n",
      "Epoch  21 Batch   28/34   train_loss = 0.348\n",
      "Epoch  21 Batch   30/34   train_loss = 0.338\n",
      "Epoch  21 Batch   32/34   train_loss = 0.325\n",
      "Epoch  22 Batch    0/34   train_loss = 0.322\n",
      "Epoch  22 Batch    2/34   train_loss = 0.346\n",
      "Epoch  22 Batch    4/34   train_loss = 0.382\n",
      "Epoch  22 Batch    6/34   train_loss = 0.375\n",
      "Epoch  22 Batch    8/34   train_loss = 0.314\n",
      "Epoch  22 Batch   10/34   train_loss = 0.316\n",
      "Epoch  22 Batch   12/34   train_loss = 0.347\n",
      "Epoch  22 Batch   14/34   train_loss = 0.312\n",
      "Epoch  22 Batch   16/34   train_loss = 0.334\n",
      "Epoch  22 Batch   18/34   train_loss = 0.297\n",
      "Epoch  22 Batch   20/34   train_loss = 0.345\n",
      "Epoch  22 Batch   22/34   train_loss = 0.290\n",
      "Epoch  22 Batch   24/34   train_loss = 0.360\n",
      "Epoch  22 Batch   26/34   train_loss = 0.334\n",
      "Epoch  22 Batch   28/34   train_loss = 0.337\n",
      "Epoch  22 Batch   30/34   train_loss = 0.329\n",
      "Epoch  22 Batch   32/34   train_loss = 0.294\n",
      "Epoch  23 Batch    0/34   train_loss = 0.274\n",
      "Epoch  23 Batch    2/34   train_loss = 0.335\n",
      "Epoch  23 Batch    4/34   train_loss = 0.365\n",
      "Epoch  23 Batch    6/34   train_loss = 0.324\n",
      "Epoch  23 Batch    8/34   train_loss = 0.288\n",
      "Epoch  23 Batch   10/34   train_loss = 0.282\n",
      "Epoch  23 Batch   12/34   train_loss = 0.306\n",
      "Epoch  23 Batch   14/34   train_loss = 0.253\n",
      "Epoch  23 Batch   16/34   train_loss = 0.297\n",
      "Epoch  23 Batch   18/34   train_loss = 0.270\n",
      "Epoch  23 Batch   20/34   train_loss = 0.307\n",
      "Epoch  23 Batch   22/34   train_loss = 0.269\n",
      "Epoch  23 Batch   24/34   train_loss = 0.319\n",
      "Epoch  23 Batch   26/34   train_loss = 0.300\n",
      "Epoch  23 Batch   28/34   train_loss = 0.276\n",
      "Epoch  23 Batch   30/34   train_loss = 0.296\n",
      "Epoch  23 Batch   32/34   train_loss = 0.293\n",
      "Epoch  24 Batch    0/34   train_loss = 0.254\n",
      "Epoch  24 Batch    2/34   train_loss = 0.296\n",
      "Epoch  24 Batch    4/34   train_loss = 0.315\n",
      "Epoch  24 Batch    6/34   train_loss = 0.316\n",
      "Epoch  24 Batch    8/34   train_loss = 0.259\n",
      "Epoch  24 Batch   10/34   train_loss = 0.263\n",
      "Epoch  24 Batch   12/34   train_loss = 0.294\n",
      "Epoch  24 Batch   14/34   train_loss = 0.257\n",
      "Epoch  24 Batch   16/34   train_loss = 0.283\n",
      "Epoch  24 Batch   18/34   train_loss = 0.269\n",
      "Epoch  24 Batch   20/34   train_loss = 0.297\n",
      "Epoch  24 Batch   22/34   train_loss = 0.259\n",
      "Epoch  24 Batch   24/34   train_loss = 0.289\n",
      "Epoch  24 Batch   26/34   train_loss = 0.291\n",
      "Epoch  24 Batch   28/34   train_loss = 0.270\n",
      "Epoch  24 Batch   30/34   train_loss = 0.296\n",
      "Epoch  24 Batch   32/34   train_loss = 0.269\n",
      "Epoch  25 Batch    0/34   train_loss = 0.242\n",
      "Epoch  25 Batch    2/34   train_loss = 0.258\n",
      "Epoch  25 Batch    4/34   train_loss = 0.294\n",
      "Epoch  25 Batch    6/34   train_loss = 0.290\n",
      "Epoch  25 Batch    8/34   train_loss = 0.256\n",
      "Epoch  25 Batch   10/34   train_loss = 0.237\n",
      "Epoch  25 Batch   12/34   train_loss = 0.252\n",
      "Epoch  25 Batch   14/34   train_loss = 0.233\n",
      "Epoch  25 Batch   16/34   train_loss = 0.273\n",
      "Epoch  25 Batch   18/34   train_loss = 0.239\n",
      "Epoch  25 Batch   20/34   train_loss = 0.297\n",
      "Epoch  25 Batch   22/34   train_loss = 0.238\n",
      "Epoch  25 Batch   24/34   train_loss = 0.288\n",
      "Epoch  25 Batch   26/34   train_loss = 0.275\n",
      "Epoch  25 Batch   28/34   train_loss = 0.251\n",
      "Epoch  25 Batch   30/34   train_loss = 0.297\n",
      "Epoch  25 Batch   32/34   train_loss = 0.238\n",
      "Epoch  26 Batch    0/34   train_loss = 0.229\n",
      "Epoch  26 Batch    2/34   train_loss = 0.244\n",
      "Epoch  26 Batch    4/34   train_loss = 0.259\n",
      "Epoch  26 Batch    6/34   train_loss = 0.281\n",
      "Epoch  26 Batch    8/34   train_loss = 0.251\n",
      "Epoch  26 Batch   10/34   train_loss = 0.237\n",
      "Epoch  26 Batch   12/34   train_loss = 0.236\n",
      "Epoch  26 Batch   14/34   train_loss = 0.219\n",
      "Epoch  26 Batch   16/34   train_loss = 0.266\n",
      "Epoch  26 Batch   18/34   train_loss = 0.232\n",
      "Epoch  26 Batch   20/34   train_loss = 0.271\n",
      "Epoch  26 Batch   22/34   train_loss = 0.240\n",
      "Epoch  26 Batch   24/34   train_loss = 0.258\n",
      "Epoch  26 Batch   26/34   train_loss = 0.241\n",
      "Epoch  26 Batch   28/34   train_loss = 0.235\n",
      "Epoch  26 Batch   30/34   train_loss = 0.261\n",
      "Epoch  26 Batch   32/34   train_loss = 0.222\n",
      "Epoch  27 Batch    0/34   train_loss = 0.226\n",
      "Epoch  27 Batch    2/34   train_loss = 0.217\n",
      "Epoch  27 Batch    4/34   train_loss = 0.254\n",
      "Epoch  27 Batch    6/34   train_loss = 0.281\n",
      "Epoch  27 Batch    8/34   train_loss = 0.211\n",
      "Epoch  27 Batch   10/34   train_loss = 0.222\n",
      "Epoch  27 Batch   12/34   train_loss = 0.235\n",
      "Epoch  27 Batch   14/34   train_loss = 0.212\n",
      "Epoch  27 Batch   16/34   train_loss = 0.255\n",
      "Epoch  27 Batch   18/34   train_loss = 0.224\n",
      "Epoch  27 Batch   20/34   train_loss = 0.265\n",
      "Epoch  27 Batch   22/34   train_loss = 0.217\n",
      "Epoch  27 Batch   24/34   train_loss = 0.242\n",
      "Epoch  27 Batch   26/34   train_loss = 0.224\n",
      "Epoch  27 Batch   28/34   train_loss = 0.225\n",
      "Epoch  27 Batch   30/34   train_loss = 0.236\n",
      "Epoch  27 Batch   32/34   train_loss = 0.211\n",
      "Epoch  28 Batch    0/34   train_loss = 0.231\n",
      "Epoch  28 Batch    2/34   train_loss = 0.214\n",
      "Epoch  28 Batch    4/34   train_loss = 0.247\n",
      "Epoch  28 Batch    6/34   train_loss = 0.276\n",
      "Epoch  28 Batch    8/34   train_loss = 0.208\n",
      "Epoch  28 Batch   10/34   train_loss = 0.212\n",
      "Epoch  28 Batch   12/34   train_loss = 0.222\n",
      "Epoch  28 Batch   14/34   train_loss = 0.205\n",
      "Epoch  28 Batch   16/34   train_loss = 0.239\n",
      "Epoch  28 Batch   18/34   train_loss = 0.215\n",
      "Epoch  28 Batch   20/34   train_loss = 0.248\n",
      "Epoch  28 Batch   22/34   train_loss = 0.224\n",
      "Epoch  28 Batch   24/34   train_loss = 0.239\n",
      "Epoch  28 Batch   26/34   train_loss = 0.213\n",
      "Epoch  28 Batch   28/34   train_loss = 0.211\n",
      "Epoch  28 Batch   30/34   train_loss = 0.233\n",
      "Epoch  28 Batch   32/34   train_loss = 0.201\n",
      "Epoch  29 Batch    0/34   train_loss = 0.221\n",
      "Epoch  29 Batch    2/34   train_loss = 0.205\n",
      "Epoch  29 Batch    4/34   train_loss = 0.235\n",
      "Epoch  29 Batch    6/34   train_loss = 0.282\n",
      "Epoch  29 Batch    8/34   train_loss = 0.202\n",
      "Epoch  29 Batch   10/34   train_loss = 0.204\n",
      "Epoch  29 Batch   12/34   train_loss = 0.217\n",
      "Epoch  29 Batch   14/34   train_loss = 0.195\n",
      "Epoch  29 Batch   16/34   train_loss = 0.228\n",
      "Epoch  29 Batch   18/34   train_loss = 0.205\n",
      "Epoch  29 Batch   20/34   train_loss = 0.267\n",
      "Epoch  29 Batch   22/34   train_loss = 0.210\n",
      "Epoch  29 Batch   24/34   train_loss = 0.229\n",
      "Epoch  29 Batch   26/34   train_loss = 0.204\n",
      "Epoch  29 Batch   28/34   train_loss = 0.209\n",
      "Epoch  29 Batch   30/34   train_loss = 0.219\n",
      "Epoch  29 Batch   32/34   train_loss = 0.200\n",
      "Model Trained and Saved\n"
     ]
    }
   ],
   "source": [
    "\"\"\"\n",
    "DON'T MODIFY ANYTHING IN THIS CELL\n",
    "\"\"\"\n",
    "batches = get_batches(int_text, batch_size, seq_length)\n",
    "\n",
    "with tf.Session(graph=train_graph) as sess:\n",
    "    sess.run(tf.global_variables_initializer())\n",
    "\n",
    "    for epoch_i in range(num_epochs):\n",
    "        state = sess.run(initial_state, {input_text: batches[0][0]})\n",
    "\n",
    "        for batch_i, (x, y) in enumerate(batches):\n",
    "            feed = {\n",
    "                input_text: x,\n",
    "                targets: y,\n",
    "                initial_state: state,\n",
    "                lr: learning_rate}\n",
    "            train_loss, state, _ = sess.run([cost, final_state, train_op], feed)\n",
    "\n",
    "            # Show every <show_every_n_batches> batches\n",
    "            if (epoch_i * len(batches) + batch_i) % show_every_n_batches == 0:\n",
    "                print('Epoch {:>3} Batch {:>4}/{}   train_loss = {:.3f}'.format(\n",
    "                    epoch_i,\n",
    "                    batch_i,\n",
    "                    len(batches),\n",
    "                    train_loss))\n",
    "\n",
    "    # Save Model\n",
    "    saver = tf.train.Saver()\n",
    "    saver.save(sess, save_dir)\n",
    "    print('Model Trained and Saved')"
   ]
  },
  {
   "cell_type": "markdown",
   "metadata": {
    "deletable": true,
    "editable": true
   },
   "source": [
    "## Save Parameters\n",
    "Save `seq_length` and `save_dir` for generating a new TV script."
   ]
  },
  {
   "cell_type": "code",
   "execution_count": 20,
   "metadata": {
    "collapsed": false,
    "deletable": true,
    "editable": true
   },
   "outputs": [],
   "source": [
    "\"\"\"\n",
    "DON'T MODIFY ANYTHING IN THIS CELL\n",
    "\"\"\"\n",
    "# Save parameters for checkpoint\n",
    "helper.save_params((seq_length, save_dir))"
   ]
  },
  {
   "cell_type": "markdown",
   "metadata": {
    "deletable": true,
    "editable": true
   },
   "source": [
    "# Checkpoint"
   ]
  },
  {
   "cell_type": "code",
   "execution_count": 21,
   "metadata": {
    "collapsed": false,
    "deletable": true,
    "editable": true
   },
   "outputs": [],
   "source": [
    "\"\"\"\n",
    "DON'T MODIFY ANYTHING IN THIS CELL\n",
    "\"\"\"\n",
    "import tensorflow as tf\n",
    "import numpy as np\n",
    "import helper\n",
    "import problem_unittests as tests\n",
    "\n",
    "_, vocab_to_int, int_to_vocab, token_dict = helper.load_preprocess()\n",
    "seq_length, load_dir = helper.load_params()"
   ]
  },
  {
   "cell_type": "markdown",
   "metadata": {
    "deletable": true,
    "editable": true
   },
   "source": [
    "## Implement Generate Functions\n",
    "### Get Tensors\n",
    "Get tensors from `loaded_graph` using the function [`get_tensor_by_name()`](https://www.tensorflow.org/api_docs/python/tf/Graph#get_tensor_by_name).  Get the tensors using the following names:\n",
    "- \"input:0\"\n",
    "- \"initial_state:0\"\n",
    "- \"final_state:0\"\n",
    "- \"probs:0\"\n",
    "\n",
    "Return the tensors in the following tuple `(InputTensor, InitialStateTensor, FinalStateTensor, ProbsTensor)` "
   ]
  },
  {
   "cell_type": "code",
   "execution_count": 22,
   "metadata": {
    "collapsed": false,
    "deletable": true,
    "editable": true
   },
   "outputs": [
    {
     "name": "stdout",
     "output_type": "stream",
     "text": [
      "Tests Passed\n"
     ]
    }
   ],
   "source": [
    "\n",
    "def get_tensors(loaded_graph):\n",
    "    \"\"\"\n",
    "    Get input, initial state, final state, and probabilities tensor from <loaded_graph>\n",
    "    :param loaded_graph: TensorFlow graph loaded from file\n",
    "    :return: Tuple (InputTensor, InitialStateTensor, FinalStateTensor, ProbsTensor)\n",
    "    \"\"\"\n",
    "    # TODO: Implement Function\n",
    "    InputTensor=loaded_graph.get_tensor_by_name(name=\"input:0\")\n",
    "    InitialStateTensor=loaded_graph.get_tensor_by_name(\"initial_state:0\")\n",
    "    FinalStateTensor=loaded_graph.get_tensor_by_name(\"final_state:0\")\n",
    "    ProbsTensor=loaded_graph.get_tensor_by_name(\"probs:0\")\n",
    "    \n",
    "    \n",
    "    return (InputTensor, InitialStateTensor, FinalStateTensor, ProbsTensor)\n",
    "\n",
    "\n",
    "\"\"\"\n",
    "DON'T MODIFY ANYTHING IN THIS CELL THAT IS BELOW THIS LINE\n",
    "\"\"\"\n",
    "tests.test_get_tensors(get_tensors)"
   ]
  },
  {
   "cell_type": "markdown",
   "metadata": {
    "deletable": true,
    "editable": true
   },
   "source": [
    "### Choose Word\n",
    "Implement the `pick_word()` function to select the next word using `probabilities`."
   ]
  },
  {
   "cell_type": "code",
   "execution_count": 23,
   "metadata": {
    "collapsed": false,
    "deletable": true,
    "editable": true
   },
   "outputs": [
    {
     "name": "stdout",
     "output_type": "stream",
     "text": [
      "Tests Passed\n"
     ]
    }
   ],
   "source": [
    "def pick_word(probabilities, int_to_vocab):\n",
    "    \"\"\"\n",
    "    Pick the next word in the generated text\n",
    "    :param probabilities: Probabilites of the next word\n",
    "    :param int_to_vocab: Dictionary of word ids as the keys and words as the values\n",
    "    :return: String of the predicted word\n",
    "    \"\"\"\n",
    "    # TODO: Implement Function\n",
    "    \n",
    "    int_choiced = np.random.choice(len(int_to_vocab) ,p=probabilities)\n",
    "\n",
    "    return int_to_vocab[int_choiced]\n",
    "\n",
    "\n",
    "\"\"\"\n",
    "DON'T MODIFY ANYTHING IN THIS CELL THAT IS BELOW THIS LINE\n",
    "\"\"\"\n",
    "tests.test_pick_word(pick_word)"
   ]
  },
  {
   "cell_type": "markdown",
   "metadata": {
    "deletable": true,
    "editable": true
   },
   "source": [
    "## Generate TV Script\n",
    "This will generate the TV script for you.  Set `gen_length` to the length of TV script you want to generate."
   ]
  },
  {
   "cell_type": "code",
   "execution_count": 24,
   "metadata": {
    "collapsed": false,
    "deletable": true,
    "editable": true
   },
   "outputs": [
    {
     "name": "stdout",
     "output_type": "stream",
     "text": [
      "moe_szyslak: accept those minutes over in their made. the y y-- even simpson to cut?\n",
      "coach: their) knows absolutely, people won't give 'em 'em fun.\n",
      "homer_simpson: moe, can i save a time? hey, why cannot turn into the plotz.\n",
      "moe_szyslak:(short and oh, broadway! also, and hungry.\n",
      "drinks drinks let me need yourself.\n",
      "homer_simpson: sorry for your finest life.\n",
      "barney_gumble: okay, but i'm not for(to talkin') thank your brains,\" was\" that private be\" authorized the else.\" much family and pine family jesus. there stand. ya name.\n",
      "moe_szyslak: so, now was upon want in freshened! what does you like secrets.\n",
      "moe_szyslak: so, uh, let me problem. the two are, i'm thinking of his tab.\n",
      "apu_nahasapeemapetilon:(grumpy) another me valentine's joe me vulnerable considering.\n",
      "moe_szyslak:(annoyed) oh, look at me. you're really out with each candy.\n",
      "carl_carlson: oh, yeah.\n",
      "moe_szyslak: ah, little\n"
     ]
    }
   ],
   "source": [
    "gen_length = 200\n",
    "# homer_simpson, moe_szyslak, or Barney_Gumble\n",
    "prime_word = 'moe_szyslak'\n",
    "\n",
    "\"\"\"\n",
    "DON'T MODIFY ANYTHING IN THIS CELL THAT IS BELOW THIS LINE\n",
    "\"\"\"\n",
    "loaded_graph = tf.Graph()\n",
    "with tf.Session(graph=loaded_graph) as sess:\n",
    "    # Load saved model\n",
    "    loader = tf.train.import_meta_graph(load_dir + '.meta')\n",
    "    loader.restore(sess, load_dir)\n",
    "\n",
    "    # Get Tensors from loaded model\n",
    "    input_text, initial_state, final_state, probs = get_tensors(loaded_graph)\n",
    "\n",
    "    # Sentences generation setup\n",
    "    gen_sentences = [prime_word + ':']\n",
    "    prev_state = sess.run(initial_state, {input_text: np.array([[1]])})\n",
    "\n",
    "    # Generate sentences\n",
    "    for n in range(gen_length):\n",
    "        # Dynamic Input\n",
    "        dyn_input = [[vocab_to_int[word] for word in gen_sentences[-seq_length:]]]\n",
    "        dyn_seq_length = len(dyn_input[0])\n",
    "\n",
    "        # Get Prediction\n",
    "        probabilities, prev_state = sess.run(\n",
    "            [probs, final_state],\n",
    "            {input_text: dyn_input, initial_state: prev_state})\n",
    "        \n",
    "        pred_word = pick_word(probabilities[dyn_seq_length-1], int_to_vocab)\n",
    "\n",
    "        gen_sentences.append(pred_word)\n",
    "    \n",
    "    # Remove tokens\n",
    "    tv_script = ' '.join(gen_sentences)\n",
    "    for key, token in token_dict.items():\n",
    "        ending = ' ' if key in ['\\n', '(', '\"'] else ''\n",
    "        tv_script = tv_script.replace(' ' + token.lower(), key)\n",
    "    tv_script = tv_script.replace('\\n ', '\\n')\n",
    "    tv_script = tv_script.replace('( ', '(')\n",
    "        \n",
    "    print(tv_script)"
   ]
  },
  {
   "cell_type": "markdown",
   "metadata": {
    "deletable": true,
    "editable": true
   },
   "source": [
    "# The TV Script is Nonsensical\n",
    "It's ok if the TV script doesn't make any sense.  We trained on less than a megabyte of text.  In order to get good results, you'll have to use a smaller vocabulary or get more data.  Luckly there's more data!  As we mentioned in the begging of this project, this is a subset of [another dataset](https://www.kaggle.com/wcukierski/the-simpsons-by-the-data).  We didn't have you train on all the data, because that would take too long.  However, you are free to train your neural network on all the data.  After you complete the project, of course.\n",
    "# Submitting This Project\n",
    "When submitting this project, make sure to run all the cells before saving the notebook. Save the notebook file as \"dlnd_tv_script_generation.ipynb\" and save it as a HTML file under \"File\" -> \"Download as\". Include the \"helper.py\" and \"problem_unittests.py\" files in your submission."
   ]
  }
 ],
 "metadata": {
  "kernelspec": {
   "display_name": "Python 3",
   "language": "python",
   "name": "python3"
  },
  "language_info": {
   "codemirror_mode": {
    "name": "ipython",
    "version": 3
   },
   "file_extension": ".py",
   "mimetype": "text/x-python",
   "name": "python",
   "nbconvert_exporter": "python",
   "pygments_lexer": "ipython3",
   "version": "3.5.2"
  },
  "widgets": {
   "state": {},
   "version": "1.1.2"
  }
 },
 "nbformat": 4,
 "nbformat_minor": 0
}
