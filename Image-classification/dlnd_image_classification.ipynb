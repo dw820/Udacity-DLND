{
 "cells": [
  {
   "cell_type": "markdown",
   "metadata": {
    "collapsed": true,
    "deletable": true,
    "editable": true
   },
   "source": [
    "# Image Classification\n",
    "In this project, you'll classify images from the [CIFAR-10 dataset](https://www.cs.toronto.edu/~kriz/cifar.html).  The dataset consists of airplanes, dogs, cats, and other objects. You'll preprocess the images, then train a convolutional neural network on all the samples. The images need to be normalized and the labels need to be one-hot encoded.  You'll get to apply what you learned and build a convolutional, max pooling, dropout, and fully connected layers.  At the end, you'll get to see your neural network's predictions on the sample images.\n",
    "## Get the Data\n",
    "Run the following cell to download the [CIFAR-10 dataset for python](https://www.cs.toronto.edu/~kriz/cifar-10-python.tar.gz)."
   ]
  },
  {
   "cell_type": "code",
   "execution_count": 1,
   "metadata": {
    "collapsed": false,
    "deletable": true,
    "editable": true
   },
   "outputs": [
    {
     "name": "stdout",
     "output_type": "stream",
     "text": [
      "All files found!\n"
     ]
    }
   ],
   "source": [
    "\"\"\"\n",
    "DON'T MODIFY ANYTHING IN THIS CELL THAT IS BELOW THIS LINE\n",
    "\"\"\"\n",
    "from urllib.request import urlretrieve\n",
    "from os.path import isfile, isdir\n",
    "from tqdm import tqdm\n",
    "import problem_unittests as tests\n",
    "import tarfile\n",
    "\n",
    "cifar10_dataset_folder_path = 'cifar-10-batches-py'\n",
    "\n",
    "# Use Floyd's cifar-10 dataset if present\n",
    "floyd_cifar10_location = '/input/cifar-10/python.tar.gz'\n",
    "if isfile(floyd_cifar10_location):\n",
    "    tar_gz_path = floyd_cifar10_location\n",
    "else:\n",
    "    tar_gz_path = 'cifar-10-python.tar.gz'\n",
    "\n",
    "\n",
    "class DLProgress(tqdm):\n",
    "    last_block = 0\n",
    "\n",
    "    def hook(self, block_num=1, block_size=1, total_size=None):\n",
    "        self.total = total_size\n",
    "        self.update((block_num - self.last_block) * block_size)\n",
    "        self.last_block = block_num\n",
    "\n",
    "if not isfile('cifar-10-python.tar.gz'):\n",
    "    with DLProgress(unit='B', unit_scale=True, miniters=1, desc='CIFAR-10 Dataset') as pbar:\n",
    "        urlretrieve(\n",
    "            'https://www.cs.toronto.edu/~kriz/cifar-10-python.tar.gz',\n",
    "            'cifar-10-python.tar.gz',\n",
    "            pbar.hook)\n",
    "\n",
    "if not isdir(cifar10_dataset_folder_path):\n",
    "    with tarfile.open('cifar-10-python.tar.gz') as tar:\n",
    "        tar.extractall()\n",
    "        tar.close()\n",
    "\n",
    "\n",
    "tests.test_folder_path(cifar10_dataset_folder_path)"
   ]
  },
  {
   "cell_type": "markdown",
   "metadata": {
    "deletable": true,
    "editable": true
   },
   "source": [
    "## Explore the Data\n",
    "The dataset is broken into batches to prevent your machine from running out of memory.  The CIFAR-10 dataset consists of 5 batches, named `data_batch_1`, `data_batch_2`, etc.. Each batch contains the labels and images that are one of the following:\n",
    "* airplane\n",
    "* automobile\n",
    "* bird\n",
    "* cat\n",
    "* deer\n",
    "* dog\n",
    "* frog\n",
    "* horse\n",
    "* ship\n",
    "* truck\n",
    "\n",
    "Understanding a dataset is part of making predictions on the data.  Play around with the code cell below by changing the `batch_id` and `sample_id`. The `batch_id` is the id for a batch (1-5). The `sample_id` is the id for a image and label pair in the batch.\n",
    "\n",
    "Ask yourself \"What are all possible labels?\", \"What is the range of values for the image data?\", \"Are the labels in order or random?\".  Answers to questions like these will help you preprocess the data and end up with better predictions.\n",
    "\n",
    "(The CIFAR-10 dataset consists of 60000 32x32 colour images in 10 classes, with 6000 images per class. There are 50000 training images and 10000 test images. )"
   ]
  },
  {
   "cell_type": "code",
   "execution_count": 2,
   "metadata": {
    "collapsed": false,
    "deletable": true,
    "editable": true
   },
   "outputs": [
    {
     "name": "stdout",
     "output_type": "stream",
     "text": [
      "\n",
      "Stats of batch 2:\n",
      "Samples: 10000\n",
      "Label Counts: {0: 984, 1: 1007, 2: 1010, 3: 995, 4: 1010, 5: 988, 6: 1008, 7: 1026, 8: 987, 9: 985}\n",
      "First 20 Labels: [1, 6, 6, 8, 8, 3, 4, 6, 0, 6, 0, 3, 6, 6, 5, 4, 8, 3, 2, 6]\n",
      "\n",
      "Example of Image 9999:\n",
      "Image - Min Value: 3 Max Value: 253\n",
      "Image - Shape: (32, 32, 3)\n",
      "Label - Label Id: 5 Name: dog\n"
     ]
    },
    {
     "data": {
      "image/png": "[encoded data removed]",
      "text/plain": [
       "<matplotlib.figure.Figure at 0x7f64bf2fc860>"
      ]
     },
     "metadata": {
      "image/png": {
       "height": 250,
       "width": 253
      }
     },
     "output_type": "display_data"
    }
   ],
   "source": [
    "%matplotlib inline\n",
    "%config InlineBackend.figure_format = 'retina'\n",
    "\n",
    "import helper\n",
    "import numpy as np\n",
    "from sklearn import preprocessing\n",
    "\n",
    "# Explore the dataset\n",
    "batch_id = 2\n",
    "sample_id = 9999\n",
    "helper.display_stats(cifar10_dataset_folder_path, batch_id, sample_id)\n"
   ]
  },
  {
   "cell_type": "markdown",
   "metadata": {
    "deletable": true,
    "editable": true
   },
   "source": [
    "## Implement Preprocess Functions\n",
    "### Normalize\n",
    "In the cell below, implement the `normalize` function to take in image data, `x`, and return it as a normalized Numpy array. The values should be in the range of 0 to 1, inclusive.  The return object should be the same shape as `x`."
   ]
  },
  {
   "cell_type": "code",
   "execution_count": 3,
   "metadata": {
    "collapsed": false,
    "deletable": true,
    "editable": true
   },
   "outputs": [
    {
     "name": "stdout",
     "output_type": "stream",
     "text": [
      "Tests Passed\n"
     ]
    }
   ],
   "source": [
    "def normalize(x):\n",
    "    \"\"\"\n",
    "    Normalize a list of sample image data in the range of 0 to 1\n",
    "    : x: List of image data.  The image shape is (32, 32, 3)\n",
    "    : return: Numpy array of normalize data\n",
    "    \"\"\"\n",
    "    # TODO: Implement Function\n",
    "    return (x-np.amin(x))/(np.amax(x)-np.amin(x))\n",
    "\n",
    "\n",
    "\"\"\"\n",
    "DON'T MODIFY ANYTHING IN THIS CELL THAT IS BELOW THIS LINE\n",
    "\"\"\"\n",
    "tests.test_normalize(normalize)\n"
   ]
  },
  {
   "cell_type": "markdown",
   "metadata": {
    "deletable": true,
    "editable": true
   },
   "source": [
    "### One-hot encode\n",
    "Just like the previous code cell, you'll be implementing a function for preprocessing.  This time, you'll implement the `one_hot_encode` function. The input, `x`, are a list of labels.  Implement the function to return the list of labels as One-Hot encoded Numpy array.  The possible values for labels are 0 to 9. The one-hot encoding function should return the same encoding for each value between each call to `one_hot_encode`.  Make sure to save the map of encodings outside the function.\n",
    "\n",
    "Hint: Don't reinvent the wheel."
   ]
  },
  {
   "cell_type": "code",
   "execution_count": 4,
   "metadata": {
    "collapsed": false,
    "deletable": true,
    "editable": true
   },
   "outputs": [
    {
     "name": "stdout",
     "output_type": "stream",
     "text": [
      "Tests Passed\n"
     ]
    }
   ],
   "source": [
    "def one_hot_encode(x):\n",
    "    \"\"\"\n",
    "    One hot encode a list of sample labels. Return a one-hot encoded vector for each label.\n",
    "    : x: List of sample Labels\n",
    "    : return: Numpy array of one-hot encoded labels\n",
    "    \"\"\"\n",
    "    # TODO: Implement Function\n",
    "    lb=preprocessing.LabelBinarizer()\n",
    "    lb.fit(x)\n",
    "    lb.classes_ = np.array(list(range(10)))\n",
    "    return lb.transform(x)\n",
    "\n",
    "\n",
    "\"\"\"\n",
    "DON'T MODIFY ANYTHING IN THIS CELL THAT IS BELOW THIS LINE\n",
    "\"\"\"\n",
    "tests.test_one_hot_encode(one_hot_encode)"
   ]
  },
  {
   "cell_type": "markdown",
   "metadata": {
    "deletable": true,
    "editable": true
   },
   "source": [
    "### Randomize Data\n",
    "As you saw from exploring the data above, the order of the samples are randomized.  It doesn't hurt to randomize it again, but you don't need to for this dataset."
   ]
  },
  {
   "cell_type": "markdown",
   "metadata": {
    "deletable": true,
    "editable": true
   },
   "source": [
    "## Preprocess all the data and save it\n",
    "Running the code cell below will preprocess all the CIFAR-10 data and save it to file. The code below also uses 10% of the training data for validation."
   ]
  },
  {
   "cell_type": "code",
   "execution_count": 5,
   "metadata": {
    "collapsed": false,
    "deletable": true,
    "editable": true
   },
   "outputs": [],
   "source": [
    "\"\"\"\n",
    "DON'T MODIFY ANYTHING IN THIS CELL\n",
    "\"\"\"\n",
    "# Preprocess Training, Validation, and Testing Data\n",
    "helper.preprocess_and_save_data(cifar10_dataset_folder_path, normalize, one_hot_encode)"
   ]
  },
  {
   "cell_type": "markdown",
   "metadata": {
    "deletable": true,
    "editable": true
   },
   "source": [
    "# Check Point\n",
    "This is your first checkpoint.  If you ever decide to come back to this notebook or have to restart the notebook, you can start from here.  The preprocessed data has been saved to disk."
   ]
  },
  {
   "cell_type": "code",
   "execution_count": 6,
   "metadata": {
    "collapsed": true,
    "deletable": true,
    "editable": true
   },
   "outputs": [],
   "source": [
    "\"\"\"\n",
    "DON'T MODIFY ANYTHING IN THIS CELL\n",
    "\"\"\"\n",
    "import pickle\n",
    "import problem_unittests as tests\n",
    "import helper\n",
    "\n",
    "# Load the Preprocessed Validation data\n",
    "valid_features, valid_labels = pickle.load(open('preprocess_validation.p', mode='rb'))"
   ]
  },
  {
   "cell_type": "markdown",
   "metadata": {
    "deletable": true,
    "editable": true
   },
   "source": [
    "## Build the network\n",
    "For the neural network, you'll build each layer into a function.  Most of the code you've seen has been outside of functions. To test your code more thoroughly, we require that you put each layer in a function.  This allows us to give you better feedback and test for simple mistakes using our unittests before you submit your project.\n",
    "\n",
    ">**Note:** If you're finding it hard to dedicate enough time for this course each week, we've provided a small shortcut to this part of the project. In the next couple of problems, you'll have the option to use classes from the [TensorFlow Layers](https://www.tensorflow.org/api_docs/python/tf/layers) or [TensorFlow Layers (contrib)](https://www.tensorflow.org/api_guides/python/contrib.layers) packages to build each layer, except the layers you build in the \"Convolutional and Max Pooling Layer\" section.  TF Layers is similar to Keras's and TFLearn's abstraction to layers, so it's easy to pickup.\n",
    "\n",
    ">However, if you would like to get the most out of this course, try to solve all the problems _without_ using anything from the TF Layers packages. You **can** still use classes from other packages that happen to have the same name as ones you find in TF Layers! For example, instead of using the TF Layers version of the `conv2d` class, [tf.layers.conv2d](https://www.tensorflow.org/api_docs/python/tf/layers/conv2d), you would want to use the TF Neural Network version of `conv2d`, [tf.nn.conv2d](https://www.tensorflow.org/api_docs/python/tf/nn/conv2d). \n",
    "\n",
    "Let's begin!\n",
    "\n",
    "### Input\n",
    "The neural network needs to read the image data, one-hot encoded labels, and dropout keep probability. Implement the following functions\n",
    "* Implement `neural_net_image_input`\n",
    " * Return a [TF Placeholder](https://www.tensorflow.org/api_docs/python/tf/placeholder)\n",
    " * Set the shape using `image_shape` with batch size set to `None`.\n",
    " * Name the TensorFlow placeholder \"x\" using the TensorFlow `name` parameter in the [TF Placeholder](https://www.tensorflow.org/api_docs/python/tf/placeholder).\n",
    "* Implement `neural_net_label_input`\n",
    " * Return a [TF Placeholder](https://www.tensorflow.org/api_docs/python/tf/placeholder)\n",
    " * Set the shape using `n_classes` with batch size set to `None`.\n",
    " * Name the TensorFlow placeholder \"y\" using the TensorFlow `name` parameter in the [TF Placeholder](https://www.tensorflow.org/api_docs/python/tf/placeholder).\n",
    "* Implement `neural_net_keep_prob_input`\n",
    " * Return a [TF Placeholder](https://www.tensorflow.org/api_docs/python/tf/placeholder) for dropout keep probability.\n",
    " * Name the TensorFlow placeholder \"keep_prob\" using the TensorFlow `name` parameter in the [TF Placeholder](https://www.tensorflow.org/api_docs/python/tf/placeholder).\n",
    "\n",
    "These names will be used at the end of the project to load your saved model.\n",
    "\n",
    "Note: `None` for shapes in TensorFlow allow for a dynamic size."
   ]
  },
  {
   "cell_type": "code",
   "execution_count": 7,
   "metadata": {
    "collapsed": false,
    "deletable": true,
    "editable": true
   },
   "outputs": [
    {
     "name": "stdout",
     "output_type": "stream",
     "text": [
      "Image Input Tests Passed.\n",
      "Label Input Tests Passed.\n",
      "Keep Prob Tests Passed.\n"
     ]
    }
   ],
   "source": [
    "import tensorflow as tf\n",
    "\n",
    "def neural_net_image_input(image_shape):\n",
    "    \"\"\"\n",
    "    Return a Tensor for a bach of image input\n",
    "    : image_shape: Shape of the images\n",
    "    : return: Tensor for image input.\n",
    "    \"\"\"\n",
    "    # TODO: Implement Function\n",
    "    return tf.placeholder(tf.float32,shape=[None,image_shape[0],image_shape[1],image_shape[2]],name='x')\n",
    "\n",
    "\n",
    "def neural_net_label_input(n_classes):\n",
    "    \"\"\"\n",
    "    Return a Tensor for a batch of label input\n",
    "    : n_classes: Number of classes\n",
    "    : return: Tensor for label input.\n",
    "    \"\"\"\n",
    "    # TODO: Implement Function\n",
    "    return tf.placeholder(tf.int32,shape=[None,n_classes],name='y')\n",
    "\n",
    "\n",
    "def neural_net_keep_prob_input():\n",
    "    \"\"\"\n",
    "    Return a Tensor for keep probability\n",
    "    : return: Tensor for keep probability.\n",
    "    \"\"\"\n",
    "    # TODO: Implement Function\n",
    "    return tf.placeholder(tf.float32,name='keep_prob')\n",
    "\n",
    "\n",
    "\"\"\"\n",
    "DON'T MODIFY ANYTHING IN THIS CELL THAT IS BELOW THIS LINE\n",
    "\"\"\"\n",
    "tf.reset_default_graph()\n",
    "tests.test_nn_image_inputs(neural_net_image_input)\n",
    "tests.test_nn_label_inputs(neural_net_label_input)\n",
    "tests.test_nn_keep_prob_inputs(neural_net_keep_prob_input)"
   ]
  },
  {
   "cell_type": "markdown",
   "metadata": {
    "deletable": true,
    "editable": true
   },
   "source": [
    "### Convolution and Max Pooling Layer\n",
    "Convolution layers have a lot of success with images. For this code cell, you should implement the function `conv2d_maxpool` to apply convolution then max pooling:\n",
    "* Create the weight and bias using `conv_ksize`, `conv_num_outputs` and the shape of `x_tensor`.\n",
    "* Apply a convolution to `x_tensor` using weight and `conv_strides`.\n",
    " * We recommend you use same padding, but you're welcome to use any padding.\n",
    "* Add bias\n",
    "* Add a nonlinear activation to the convolution.\n",
    "* Apply Max Pooling using `pool_ksize` and `pool_strides`.\n",
    " * We recommend you use same padding, but you're welcome to use any padding.\n",
    "\n",
    "**Note:** You **can't** use [TensorFlow Layers](https://www.tensorflow.org/api_docs/python/tf/layers) or [TensorFlow Layers (contrib)](https://www.tensorflow.org/api_guides/python/contrib.layers) for **this** layer, but you can still use TensorFlow's [Neural Network](https://www.tensorflow.org/api_docs/python/tf/nn) package. You may still use the shortcut option for all the **other** layers."
   ]
  },
  {
   "cell_type": "code",
   "execution_count": 8,
   "metadata": {
    "collapsed": false,
    "deletable": true,
    "editable": true
   },
   "outputs": [
    {
     "name": "stdout",
     "output_type": "stream",
     "text": [
      "Tests Passed\n"
     ]
    }
   ],
   "source": [
    "def conv2d_maxpool(x_tensor, conv_num_outputs, conv_ksize, conv_strides, pool_ksize, pool_strides):\n",
    "    \"\"\"\n",
    "    Apply convolution then max pooling to x_tensor\n",
    "    :param x_tensor: TensorFlow Tensor\n",
    "    :param conv_num_outputs: Number of outputs for the convolutional layer\n",
    "    :param conv_ksize: kernal size 2-D Tuple for the convolutional layer\n",
    "    :param conv_strides: Stride 2-D Tuple for convolution\n",
    "    :param pool_ksize: kernal size 2-D Tuple for pool\n",
    "    :param pool_strides: Stride 2-D Tuple for pool\n",
    "    : return: A tensor that represents convolution and max pooling of x_tensor\n",
    "    \"\"\"\n",
    "    # TODO: Implement Function\n",
    "    \n",
    "    weight = tf.Variable(tf.truncated_normal([conv_ksize[0], conv_ksize[1], x_tensor.get_shape().as_list()[3], conv_num_outputs],mean=0.0, stddev=0.01))\n",
    "    bias = tf.Variable(tf.zeros(conv_num_outputs))## \n",
    "        \n",
    "    conv_layer = tf.nn.conv2d(x_tensor,weight,strides=[1,conv_strides[0],conv_strides[1],1],padding='SAME')\n",
    "    conv_layer = tf.nn.bias_add(conv_layer, bias)\n",
    "    conv_layer = tf.nn.relu(conv_layer)\n",
    "    pool_layer = tf.nn.max_pool(conv_layer,ksize=[1, pool_ksize[0], pool_ksize[1], 1],strides=[1, pool_strides[0], pool_strides[1], 1],padding='SAME')\n",
    "    return pool_layer \n",
    "\n",
    "\n",
    "\"\"\"\n",
    "DON'T MODIFY ANYTHING IN THIS CELL THAT IS BELOW THIS LINE\n",
    "\"\"\"\n",
    "tests.test_con_pool(conv2d_maxpool)"
   ]
  },
  {
   "cell_type": "markdown",
   "metadata": {
    "deletable": true,
    "editable": true
   },
   "source": [
    "### Flatten Layer\n",
    "Implement the `flatten` function to change the dimension of `x_tensor` from a 4-D tensor to a 2-D tensor.  The output should be the shape (*Batch Size*, *Flattened Image Size*). Shortcut option: you can use classes from the [TensorFlow Layers](https://www.tensorflow.org/api_docs/python/tf/layers) or [TensorFlow Layers (contrib)](https://www.tensorflow.org/api_guides/python/contrib.layers) packages for this layer. For more of a challenge, only use other TensorFlow packages."
   ]
  },
  {
   "cell_type": "code",
   "execution_count": 9,
   "metadata": {
    "collapsed": false,
    "deletable": true,
    "editable": true
   },
   "outputs": [
    {
     "name": "stdout",
     "output_type": "stream",
     "text": [
      "Tests Passed\n"
     ]
    }
   ],
   "source": [
    "def flatten(x_tensor):\n",
    "    \"\"\"\n",
    "    Flatten x_tensor to (Batch Size, Flattened Image Size)\n",
    "    : x_tensor: A tensor of size (Batch Size, ...), where ... are the image dimensions.\n",
    "    : return: A tensor of size (Batch Size, Flattened Image Size).\n",
    "    \"\"\"\n",
    "    # TODO: Implement Function\n",
    "    flatten_x = tf.reshape(x_tensor, [-1, x_tensor.get_shape().as_list()[1]*x_tensor.get_shape().as_list()[2]*x_tensor.get_shape().as_list()[3]])   \n",
    "    return flatten_x\n",
    "\n",
    "\n",
    "\"\"\"\n",
    "DON'T MODIFY ANYTHING IN THIS CELL THAT IS BELOW THIS LINE\n",
    "\"\"\"\n",
    "tests.test_flatten(flatten)"
   ]
  },
  {
   "cell_type": "markdown",
   "metadata": {
    "deletable": true,
    "editable": true
   },
   "source": [
    "### Fully-Connected Layer\n",
    "Implement the `fully_conn` function to apply a fully connected layer to `x_tensor` with the shape (*Batch Size*, *num_outputs*). Shortcut option: you can use classes from the [TensorFlow Layers](https://www.tensorflow.org/api_docs/python/tf/layers) or [TensorFlow Layers (contrib)](https://www.tensorflow.org/api_guides/python/contrib.layers) packages for this layer. For more of a challenge, only use other TensorFlow packages."
   ]
  },
  {
   "cell_type": "code",
   "execution_count": 10,
   "metadata": {
    "collapsed": false,
    "deletable": true,
    "editable": true
   },
   "outputs": [
    {
     "name": "stdout",
     "output_type": "stream",
     "text": [
      "Tests Passed\n"
     ]
    }
   ],
   "source": [
    "def fully_conn(x_tensor, num_outputs):\n",
    "    \"\"\"\n",
    "    Apply a fully connected layer to x_tensor using weight and bias\n",
    "    : x_tensor: A 2-D tensor where the first dimension is batch size.\n",
    "    : num_outputs: The number of output that the new tensor should be.\n",
    "    : return: A 2-D tensor where the second dimension is num_outputs.\n",
    "    \"\"\"\n",
    "    # TODO: Implement Function\n",
    "    \n",
    "    weight1 = tf.Variable(tf.truncated_normal([x_tensor.get_shape().as_list()[1], num_outputs]))\n",
    "    bias1 = tf.Variable(tf.zeros(num_outputs))\n",
    "    fullyconlayer=tf.add(tf.matmul(x_tensor, weight1),bias1)\n",
    "    fullyconlayer=tf.nn.relu(fullyconlayer)\n",
    "    \n",
    "    return fullyconlayer\n",
    "\n",
    "\n",
    "\"\"\"\n",
    "DON'T MODIFY ANYTHING IN THIS CELL THAT IS BELOW THIS LINE\n",
    "\"\"\"\n",
    "tests.test_fully_conn(fully_conn)"
   ]
  },
  {
   "cell_type": "markdown",
   "metadata": {
    "deletable": true,
    "editable": true
   },
   "source": [
    "### Output Layer\n",
    "Implement the `output` function to apply a fully connected layer to `x_tensor` with the shape (*Batch Size*, *num_outputs*). Shortcut option: you can use classes from the [TensorFlow Layers](https://www.tensorflow.org/api_docs/python/tf/layers) or [TensorFlow Layers (contrib)](https://www.tensorflow.org/api_guides/python/contrib.layers) packages for this layer. For more of a challenge, only use other TensorFlow packages.\n",
    "\n",
    "**Note:** Activation, softmax, or cross entropy should **not** be applied to this."
   ]
  },
  {
   "cell_type": "code",
   "execution_count": 11,
   "metadata": {
    "collapsed": false,
    "deletable": true,
    "editable": true
   },
   "outputs": [
    {
     "name": "stdout",
     "output_type": "stream",
     "text": [
      "Tests Passed\n"
     ]
    }
   ],
   "source": [
    "def output(x_tensor, num_outputs):\n",
    "    \"\"\"\n",
    "    Apply a output layer to x_tensor using weight and bias\n",
    "    : x_tensor: A 2-D tensor where the first dimension is batch size.\n",
    "    : num_outputs: The number of output that the new tensor should be.\n",
    "    : return: A 2-D tensor where the second dimension is num_outputs.\n",
    "    \"\"\"\n",
    "    # TODO: Implement Function\n",
    "    weight = tf.Variable(tf.truncated_normal([x_tensor.get_shape().as_list()[1], num_outputs],stddev=0.01, mean=0))\n",
    "    bias = tf.Variable(tf.zeros(num_outputs))\n",
    "    \n",
    "    return tf.add(tf.matmul(x_tensor, weight),bias)\n",
    "\n",
    "\n",
    "\"\"\"\n",
    "DON'T MODIFY ANYTHING IN THIS CELL THAT IS BELOW THIS LINE\n",
    "\"\"\"\n",
    "tests.test_output(output)"
   ]
  },
  {
   "cell_type": "markdown",
   "metadata": {
    "deletable": true,
    "editable": true
   },
   "source": [
    "### Create Convolutional Model\n",
    "Implement the function `conv_net` to create a convolutional neural network model. The function takes in a batch of images, `x`, and outputs logits.  Use the layers you created above to create this model:\n",
    "\n",
    "* Apply 1, 2, or 3 Convolution and Max Pool layers\n",
    "* Apply a Flatten Layer\n",
    "* Apply 1, 2, or 3 Fully Connected Layers\n",
    "* Apply an Output Layer\n",
    "* Return the output\n",
    "* Apply [TensorFlow's Dropout](https://www.tensorflow.org/api_docs/python/tf/nn/dropout) to one or more layers in the model using `keep_prob`. "
   ]
  },
  {
   "cell_type": "code",
   "execution_count": 12,
   "metadata": {
    "collapsed": false,
    "deletable": true,
    "editable": true
   },
   "outputs": [
    {
     "name": "stdout",
     "output_type": "stream",
     "text": [
      "Neural Network Built!\n"
     ]
    }
   ],
   "source": [
    "def conv_net(x, keep_prob):\n",
    "    \"\"\"\n",
    "    Create a convolutional neural network model\n",
    "    : x: Placeholder tensor that holds image data.\n",
    "    : keep_prob: Placeholder tensor that hold dropout keep probability.\n",
    "    : return: Tensor that represents logits\n",
    "    \"\"\"\n",
    "    # TODO: Apply 1, 2, or 3 Convolution and Max Pool layers\n",
    "    #    Play around with different number of outputs, kernel size and stride\n",
    "    # Function Definition from Above:\n",
    "    #    conv2d_maxpool(x_tensor, conv_num_outputs, conv_ksize, conv_strides, pool_ksize, pool_strides)    \n",
    "    conv_layer1=conv2d_maxpool(x, 128, (4,4), (1,1), (2,2), (2,2))\n",
    "    conv_layer2=conv2d_maxpool(conv_layer1, 64, (3,3), (1,1), (2,2), (2,2))\n",
    "    conv_layer3=conv2d_maxpool(conv_layer2, 32, (2,2), (1,1), (2,2), (2,2))\n",
    "    \n",
    "\n",
    "    # TODO: Apply a Flatten Layer\n",
    "    # Function Definition from Above:\n",
    "    #   flatten(x_tensor)\n",
    "    flat_layer= flatten(conv_layer3)\n",
    "\n",
    "    \n",
    "    # TODO: Apply 1, 2, or 3 Fully Connected Layers\n",
    "    #    Play around with different number of outputs\n",
    "    # Function Definition from Above:\n",
    "    #   fully_conn(x_tensor, num_outputs)\n",
    "    \n",
    "    \n",
    "    \n",
    "    full_con_layer1= fully_conn(flat_layer, 512)\n",
    "    full_con_layer2= fully_conn(full_con_layer1, 128)\n",
    "    #full_con_layer3= fully_conn(full_con_layer2, 64)\n",
    "    full_con_layer3=tf.nn.dropout(full_con_layer2,keep_prob)\n",
    "    ##Question hereeee\n",
    "    \n",
    "    # TODO: Apply an Output Layer\n",
    "    #    Set this to the number of classes\n",
    "    # Function Definition from Above:\n",
    "    #   output(x_tensor, num_outputs)\n",
    "    \n",
    "    \n",
    "    # TODO: return output\n",
    "    fin_output = output(full_con_layer3, 10)\n",
    "    return fin_output\n",
    "\n",
    "\n",
    "\"\"\"\n",
    "DON'T MODIFY ANYTHING IN THIS CELL THAT IS BELOW THIS LINE\n",
    "\"\"\"\n",
    "\n",
    "##############################\n",
    "## Build the Neural Network ##\n",
    "##############################\n",
    "\n",
    "# Remove previous weights, bias, inputs, etc..\n",
    "tf.reset_default_graph()\n",
    "\n",
    "# Inputs\n",
    "x = neural_net_image_input((32, 32, 3))\n",
    "y = neural_net_label_input(10)\n",
    "keep_prob = neural_net_keep_prob_input()\n",
    "\n",
    "# Model\n",
    "logits = conv_net(x, keep_prob)\n",
    "\n",
    "# Name logits Tensor, so that is can be loaded from disk after training\n",
    "logits = tf.identity(logits, name='logits')\n",
    "\n",
    "# Loss and Optimizer\n",
    "cost = tf.reduce_mean(tf.nn.softmax_cross_entropy_with_logits(logits=logits, labels=y))\n",
    "optimizer = tf.train.AdamOptimizer().minimize(cost)\n",
    "\n",
    "# Accuracy\n",
    "correct_pred = tf.equal(tf.argmax(logits, 1), tf.argmax(y, 1))\n",
    "accuracy = tf.reduce_mean(tf.cast(correct_pred, tf.float32), name='accuracy')\n",
    "\n",
    "tests.test_conv_net(conv_net)"
   ]
  },
  {
   "cell_type": "markdown",
   "metadata": {
    "deletable": true,
    "editable": true
   },
   "source": [
    "## Train the Neural Network\n",
    "### Single Optimization\n",
    "Implement the function `train_neural_network` to do a single optimization.  The optimization should use `optimizer` to optimize in `session` with a `feed_dict` of the following:\n",
    "* `x` for image input\n",
    "* `y` for labels\n",
    "* `keep_prob` for keep probability for dropout\n",
    "\n",
    "This function will be called for each batch, so `tf.global_variables_initializer()` has already been called.\n",
    "\n",
    "Note: Nothing needs to be returned. This function is only optimizing the neural network."
   ]
  },
  {
   "cell_type": "code",
   "execution_count": 13,
   "metadata": {
    "collapsed": false,
    "deletable": true,
    "editable": true
   },
   "outputs": [
    {
     "name": "stdout",
     "output_type": "stream",
     "text": [
      "Tests Passed\n"
     ]
    }
   ],
   "source": [
    "def train_neural_network(session, optimizer, keep_probability, feature_batch, label_batch):\n",
    "    \"\"\"\n",
    "    Optimize the session on a batch of images and labels\n",
    "    : session: Current TensorFlow session\n",
    "    : optimizer: TensorFlow optimizer function\n",
    "    : keep_probability: keep probability\n",
    "    : feature_batch: Batch of Numpy image data\n",
    "    : label_batch: Batch of Numpy label data\n",
    "    \"\"\"\n",
    "    # TODO: Implement Function\n",
    "    session.run(optimizer, feed_dict={x:feature_batch, y:label_batch, keep_prob:keep_probability})\n",
    "\n",
    "\n",
    "\"\"\"\n",
    "DON'T MODIFY ANYTHING IN THIS CELL THAT IS BELOW THIS LINE\n",
    "\"\"\"\n",
    "tests.test_train_nn(train_neural_network)"
   ]
  },
  {
   "cell_type": "markdown",
   "metadata": {
    "deletable": true,
    "editable": true
   },
   "source": [
    "### Show Stats\n",
    "Implement the function `print_stats` to print loss and validation accuracy.  Use the global variables `valid_features` and `valid_labels` to calculate validation accuracy.  Use a keep probability of `1.0` to calculate the loss and validation accuracy."
   ]
  },
  {
   "cell_type": "code",
   "execution_count": 14,
   "metadata": {
    "collapsed": false,
    "deletable": true,
    "editable": true
   },
   "outputs": [],
   "source": [
    "def print_stats(session, feature_batch, label_batch, cost, accuracy):\n",
    "    \"\"\"\n",
    "    Print information about loss and validation accuracy\n",
    "    : session: Current TensorFlow session\n",
    "    : feature_batch: Batch of Numpy image data\n",
    "    : label_batch: Batch of Numpy label data\n",
    "    : cost: TensorFlow cost function\n",
    "    : accuracy: TensorFlow accuracy function\n",
    "    \"\"\"\n",
    "    # TODO: Implement Function\n",
    "    loss =session.run(cost, feed_dict={x:feature_batch, y:label_batch, keep_prob:1.0 })\n",
    "    accuracy=session.run(accuracy, feed_dict={x:valid_features, y:valid_labels, keep_prob:1.0 })\n",
    "    \n",
    "    print(\"Cost={}\".format(loss))\n",
    "    print(\"Accuracy={}\".format(accuracy))"
   ]
  },
  {
   "cell_type": "markdown",
   "metadata": {
    "deletable": true,
    "editable": true
   },
   "source": [
    "### Hyperparameters\n",
    "Tune the following parameters:\n",
    "* Set `epochs` to the number of iterations until the network stops learning or start overfitting\n",
    "* Set `batch_size` to the highest number that your machine has memory for.  Most people set them to common sizes of memory:\n",
    " * 64\n",
    " * 128\n",
    " * 256\n",
    " * ...\n",
    "* Set `keep_probability` to the probability of keeping a node using dropout"
   ]
  },
  {
   "cell_type": "code",
   "execution_count": 15,
   "metadata": {
    "collapsed": true,
    "deletable": true,
    "editable": true
   },
   "outputs": [],
   "source": [
    "# TODO: Tune Parameters\n",
    "epochs = 25\n",
    "batch_size = 256\n",
    "keep_probability = 0.8"
   ]
  },
  {
   "cell_type": "markdown",
   "metadata": {
    "deletable": true,
    "editable": true
   },
   "source": [
    "### Train on a Single CIFAR-10 Batch\n",
    "Instead of training the neural network on all the CIFAR-10 batches of data, let's use a single batch. This should save time while you iterate on the model to get a better accuracy.  Once the final validation accuracy is 50% or greater, run the model on all the data in the next section."
   ]
  },
  {
   "cell_type": "code",
   "execution_count": 16,
   "metadata": {
    "collapsed": false,
    "deletable": true,
    "editable": true,
    "scrolled": true
   },
   "outputs": [
    {
     "name": "stdout",
     "output_type": "stream",
     "text": [
      "Checking the Training on a Single Batch...\n",
      "Epoch  1, CIFAR-10 Batch 1:  Cost=2.1275980472564697\n",
      "Accuracy=0.24559998512268066\n",
      "Epoch  2, CIFAR-10 Batch 1:  Cost=2.048600435256958\n",
      "Accuracy=0.29079997539520264\n",
      "Epoch  3, CIFAR-10 Batch 1:  Cost=1.8720834255218506\n",
      "Accuracy=0.3595999479293823\n",
      "Epoch  4, CIFAR-10 Batch 1:  Cost=1.7072899341583252\n",
      "Accuracy=0.3983999490737915\n",
      "Epoch  5, CIFAR-10 Batch 1:  Cost=1.605844497680664\n",
      "Accuracy=0.39799997210502625\n",
      "Epoch  6, CIFAR-10 Batch 1:  Cost=1.3077030181884766\n",
      "Accuracy=0.44839996099472046\n",
      "Epoch  7, CIFAR-10 Batch 1:  Cost=1.2922146320343018\n",
      "Accuracy=0.4355999827384949\n",
      "Epoch  8, CIFAR-10 Batch 1:  Cost=1.1594452857971191\n",
      "Accuracy=0.4575999677181244\n",
      "Epoch  9, CIFAR-10 Batch 1:  Cost=1.0506298542022705\n",
      "Accuracy=0.4859999716281891\n",
      "Epoch 10, CIFAR-10 Batch 1:  Cost=0.9945808053016663\n",
      "Accuracy=0.4877999424934387\n",
      "Epoch 11, CIFAR-10 Batch 1:  Cost=0.9302040338516235\n",
      "Accuracy=0.4957999587059021\n",
      "Epoch 12, CIFAR-10 Batch 1:  Cost=0.8341621160507202\n",
      "Accuracy=0.49140000343322754\n",
      "Epoch 13, CIFAR-10 Batch 1:  Cost=0.7802029252052307\n",
      "Accuracy=0.5089999437332153\n",
      "Epoch 14, CIFAR-10 Batch 1:  Cost=0.7593899965286255\n",
      "Accuracy=0.5101999640464783\n",
      "Epoch 15, CIFAR-10 Batch 1:  Cost=0.7415526509284973\n",
      "Accuracy=0.5011999011039734\n",
      "Epoch 16, CIFAR-10 Batch 1:  Cost=0.6687134504318237\n",
      "Accuracy=0.5087999105453491\n",
      "Epoch 17, CIFAR-10 Batch 1:  Cost=0.5886846780776978\n",
      "Accuracy=0.5185999274253845\n",
      "Epoch 18, CIFAR-10 Batch 1:  Cost=0.5256617665290833\n",
      "Accuracy=0.5255999565124512\n",
      "Epoch 19, CIFAR-10 Batch 1:  Cost=0.4992663562297821\n",
      "Accuracy=0.5287999510765076\n",
      "Epoch 20, CIFAR-10 Batch 1:  Cost=0.45720943808555603\n",
      "Accuracy=0.5333999395370483\n",
      "Epoch 21, CIFAR-10 Batch 1:  Cost=0.4260905385017395\n",
      "Accuracy=0.5251999497413635\n",
      "Epoch 22, CIFAR-10 Batch 1:  Cost=0.42799970507621765\n",
      "Accuracy=0.5275999903678894\n",
      "Epoch 23, CIFAR-10 Batch 1:  Cost=0.41081416606903076\n",
      "Accuracy=0.5293999314308167\n",
      "Epoch 24, CIFAR-10 Batch 1:  Cost=0.38683146238327026\n",
      "Accuracy=0.5231999158859253\n",
      "Epoch 25, CIFAR-10 Batch 1:  Cost=0.37640640139579773\n",
      "Accuracy=0.5191999673843384\n"
     ]
    }
   ],
   "source": [
    "\"\"\"\n",
    "DON'T MODIFY ANYTHING IN THIS CELL\n",
    "\"\"\"\n",
    "print('Checking the Training on a Single Batch...')\n",
    "with tf.Session() as sess:\n",
    "    # Initializing the variables\n",
    "    sess.run(tf.global_variables_initializer())\n",
    "    \n",
    "    # Training cycle\n",
    "    for epoch in range(epochs):\n",
    "        batch_i = 1\n",
    "        for batch_features, batch_labels in helper.load_preprocess_training_batch(batch_i, batch_size):\n",
    "            train_neural_network(sess, optimizer, keep_probability, batch_features, batch_labels)\n",
    "        print('Epoch {:>2}, CIFAR-10 Batch {}:  '.format(epoch + 1, batch_i), end='')\n",
    "        print_stats(sess, batch_features, batch_labels, cost, accuracy)"
   ]
  },
  {
   "cell_type": "markdown",
   "metadata": {
    "deletable": true,
    "editable": true
   },
   "source": [
    "### Fully Train the Model\n",
    "Now that you got a good accuracy with a single CIFAR-10 batch, try it with all five batches."
   ]
  },
  {
   "cell_type": "code",
   "execution_count": 17,
   "metadata": {
    "collapsed": false,
    "deletable": true,
    "editable": true
   },
   "outputs": [
    {
     "name": "stdout",
     "output_type": "stream",
     "text": [
      "Training...\n",
      "Epoch  1, CIFAR-10 Batch 1:  Cost=2.1757760047912598\n",
      "Accuracy=0.24040000140666962\n",
      "Epoch  1, CIFAR-10 Batch 2:  Cost=2.003289222717285\n",
      "Accuracy=0.29979997873306274\n",
      "Epoch  1, CIFAR-10 Batch 3:  Cost=1.5642335414886475\n",
      "Accuracy=0.33959996700286865\n",
      "Epoch  1, CIFAR-10 Batch 4:  Cost=1.636897325515747\n",
      "Accuracy=0.3877999782562256\n",
      "Epoch  1, CIFAR-10 Batch 5:  Cost=1.6395208835601807\n",
      "Accuracy=0.4195999503135681\n",
      "Epoch  2, CIFAR-10 Batch 1:  Cost=1.9252300262451172\n",
      "Accuracy=0.43359997868537903\n",
      "Epoch  2, CIFAR-10 Batch 2:  Cost=1.5361850261688232\n",
      "Accuracy=0.4411999583244324\n",
      "Epoch  2, CIFAR-10 Batch 3:  Cost=1.3180503845214844\n",
      "Accuracy=0.44839996099472046\n",
      "Epoch  2, CIFAR-10 Batch 4:  Cost=1.394858956336975\n",
      "Accuracy=0.4609999656677246\n",
      "Epoch  2, CIFAR-10 Batch 5:  Cost=1.446979284286499\n",
      "Accuracy=0.4729999601840973\n",
      "Epoch  3, CIFAR-10 Batch 1:  Cost=1.7334322929382324\n",
      "Accuracy=0.49359995126724243\n",
      "Epoch  3, CIFAR-10 Batch 2:  Cost=1.2599077224731445\n",
      "Accuracy=0.48559996485710144\n",
      "Epoch  3, CIFAR-10 Batch 3:  Cost=1.208378553390503\n",
      "Accuracy=0.4883999526500702\n",
      "Epoch  3, CIFAR-10 Batch 4:  Cost=1.3001983165740967\n",
      "Accuracy=0.5141999125480652\n",
      "Epoch  3, CIFAR-10 Batch 5:  Cost=1.2899789810180664\n",
      "Accuracy=0.5109999179840088\n",
      "Epoch  4, CIFAR-10 Batch 1:  Cost=1.5330305099487305\n",
      "Accuracy=0.5221999287605286\n",
      "Epoch  4, CIFAR-10 Batch 2:  Cost=1.1735798120498657\n",
      "Accuracy=0.5057999491691589\n",
      "Epoch  4, CIFAR-10 Batch 3:  Cost=1.085404396057129\n",
      "Accuracy=0.5151999592781067\n",
      "Epoch  4, CIFAR-10 Batch 4:  Cost=1.1821461915969849\n",
      "Accuracy=0.5351998805999756\n",
      "Epoch  4, CIFAR-10 Batch 5:  Cost=1.2073285579681396\n",
      "Accuracy=0.533799946308136\n",
      "Epoch  5, CIFAR-10 Batch 1:  Cost=1.382409930229187\n",
      "Accuracy=0.5277999639511108\n",
      "Epoch  5, CIFAR-10 Batch 2:  Cost=1.0616016387939453\n",
      "Accuracy=0.5353999733924866\n",
      "Epoch  5, CIFAR-10 Batch 3:  Cost=0.9047698974609375\n",
      "Accuracy=0.5333999395370483\n",
      "Epoch  5, CIFAR-10 Batch 4:  Cost=1.0759552717208862\n",
      "Accuracy=0.550399899482727\n",
      "Epoch  5, CIFAR-10 Batch 5:  Cost=1.1218245029449463\n",
      "Accuracy=0.5285999774932861\n",
      "Epoch  6, CIFAR-10 Batch 1:  Cost=1.316948652267456\n",
      "Accuracy=0.5561999082565308\n",
      "Epoch  6, CIFAR-10 Batch 2:  Cost=1.034064769744873\n",
      "Accuracy=0.5567999482154846\n",
      "Epoch  6, CIFAR-10 Batch 3:  Cost=0.8446929454803467\n",
      "Accuracy=0.5449999570846558\n",
      "Epoch  6, CIFAR-10 Batch 4:  Cost=0.9685354232788086\n",
      "Accuracy=0.5593999624252319\n",
      "Epoch  6, CIFAR-10 Batch 5:  Cost=1.0273057222366333\n",
      "Accuracy=0.5529999136924744\n",
      "Epoch  7, CIFAR-10 Batch 1:  Cost=1.2392761707305908\n",
      "Accuracy=0.5615999698638916\n",
      "Epoch  7, CIFAR-10 Batch 2:  Cost=0.9788315892219543\n",
      "Accuracy=0.5657999515533447\n",
      "Epoch  7, CIFAR-10 Batch 3:  Cost=0.7414390444755554\n",
      "Accuracy=0.5537999868392944\n",
      "Epoch  7, CIFAR-10 Batch 4:  Cost=0.881988525390625\n",
      "Accuracy=0.5757999420166016\n",
      "Epoch  7, CIFAR-10 Batch 5:  Cost=0.9830983281135559\n",
      "Accuracy=0.5407999157905579\n",
      "Epoch  8, CIFAR-10 Batch 1:  Cost=1.1386966705322266\n",
      "Accuracy=0.578999936580658\n",
      "Epoch  8, CIFAR-10 Batch 2:  Cost=0.902999997138977\n",
      "Accuracy=0.5873998999595642\n",
      "Epoch  8, CIFAR-10 Batch 3:  Cost=0.7027442455291748\n",
      "Accuracy=0.5609999299049377\n",
      "Epoch  8, CIFAR-10 Batch 4:  Cost=0.8390903472900391\n",
      "Accuracy=0.5817999243736267\n",
      "Epoch  8, CIFAR-10 Batch 5:  Cost=0.9958730936050415\n",
      "Accuracy=0.5439999103546143\n",
      "Epoch  9, CIFAR-10 Batch 1:  Cost=1.044306993484497\n",
      "Accuracy=0.5855998992919922\n",
      "Epoch  9, CIFAR-10 Batch 2:  Cost=0.8451786637306213\n",
      "Accuracy=0.5793999433517456\n",
      "Epoch  9, CIFAR-10 Batch 3:  Cost=0.6586470603942871\n",
      "Accuracy=0.5791999697685242\n",
      "Epoch  9, CIFAR-10 Batch 4:  Cost=0.7781267166137695\n",
      "Accuracy=0.5897999405860901\n",
      "Epoch  9, CIFAR-10 Batch 5:  Cost=0.8249513506889343\n",
      "Accuracy=0.5803999304771423\n",
      "Epoch 10, CIFAR-10 Batch 1:  Cost=0.9786526560783386\n",
      "Accuracy=0.5981999039649963\n",
      "Epoch 10, CIFAR-10 Batch 2:  Cost=0.7263900637626648\n",
      "Accuracy=0.5911999344825745\n",
      "Epoch 10, CIFAR-10 Batch 3:  Cost=0.6192203164100647\n",
      "Accuracy=0.6039999723434448\n",
      "Epoch 10, CIFAR-10 Batch 4:  Cost=0.764723539352417\n",
      "Accuracy=0.6055999398231506\n",
      "Epoch 10, CIFAR-10 Batch 5:  Cost=0.7897118330001831\n",
      "Accuracy=0.5927999019622803\n",
      "Epoch 11, CIFAR-10 Batch 1:  Cost=0.9343230724334717\n",
      "Accuracy=0.5921999216079712\n",
      "Epoch 11, CIFAR-10 Batch 2:  Cost=0.6594863533973694\n",
      "Accuracy=0.6103999614715576\n",
      "Epoch 11, CIFAR-10 Batch 3:  Cost=0.5754704475402832\n",
      "Accuracy=0.6079999208450317\n",
      "Epoch 11, CIFAR-10 Batch 4:  Cost=0.7303577065467834\n",
      "Accuracy=0.608799934387207\n",
      "Epoch 11, CIFAR-10 Batch 5:  Cost=0.7313467264175415\n",
      "Accuracy=0.5879999399185181\n",
      "Epoch 12, CIFAR-10 Batch 1:  Cost=0.8019714951515198\n",
      "Accuracy=0.6125999093055725\n",
      "Epoch 12, CIFAR-10 Batch 2:  Cost=0.6444313526153564\n",
      "Accuracy=0.6017998456954956\n",
      "Epoch 12, CIFAR-10 Batch 3:  Cost=0.5408680438995361\n",
      "Accuracy=0.6165999174118042\n",
      "Epoch 12, CIFAR-10 Batch 4:  Cost=0.698234498500824\n",
      "Accuracy=0.622999906539917\n",
      "Epoch 12, CIFAR-10 Batch 5:  Cost=0.6630459427833557\n",
      "Accuracy=0.614599883556366\n",
      "Epoch 13, CIFAR-10 Batch 1:  Cost=0.8201136589050293\n",
      "Accuracy=0.6111999750137329\n",
      "Epoch 13, CIFAR-10 Batch 2:  Cost=0.5900472402572632\n",
      "Accuracy=0.6181999444961548\n",
      "Epoch 13, CIFAR-10 Batch 3:  Cost=0.5644668340682983\n",
      "Accuracy=0.6131999492645264\n",
      "Epoch 13, CIFAR-10 Batch 4:  Cost=0.6407617330551147\n",
      "Accuracy=0.6231999397277832\n",
      "Epoch 13, CIFAR-10 Batch 5:  Cost=0.6370072960853577\n",
      "Accuracy=0.6093999147415161\n",
      "Epoch 14, CIFAR-10 Batch 1:  Cost=0.8018643856048584\n",
      "Accuracy=0.6153998970985413\n",
      "Epoch 14, CIFAR-10 Batch 2:  Cost=0.5340162515640259\n",
      "Accuracy=0.6233999133110046\n",
      "Epoch 14, CIFAR-10 Batch 3:  Cost=0.5201994180679321\n",
      "Accuracy=0.619399905204773\n",
      "Epoch 14, CIFAR-10 Batch 4:  Cost=0.5865573287010193\n",
      "Accuracy=0.6201999187469482\n",
      "Epoch 14, CIFAR-10 Batch 5:  Cost=0.6290535926818848\n",
      "Accuracy=0.6227999329566956\n",
      "Epoch 15, CIFAR-10 Batch 1:  Cost=0.7930036783218384\n",
      "Accuracy=0.6085999011993408\n",
      "Epoch 15, CIFAR-10 Batch 2:  Cost=0.5271547436714172\n",
      "Accuracy=0.6231999397277832\n",
      "Epoch 15, CIFAR-10 Batch 3:  Cost=0.5195964574813843\n",
      "Accuracy=0.6239998936653137\n",
      "Epoch 15, CIFAR-10 Batch 4:  Cost=0.5572530031204224\n",
      "Accuracy=0.627799928188324\n",
      "Epoch 15, CIFAR-10 Batch 5:  Cost=0.5130988359451294\n",
      "Accuracy=0.6265999674797058\n",
      "Epoch 16, CIFAR-10 Batch 1:  Cost=0.7468392848968506\n",
      "Accuracy=0.6135998964309692\n",
      "Epoch 16, CIFAR-10 Batch 2:  Cost=0.49840980768203735\n",
      "Accuracy=0.6253998875617981\n",
      "Epoch 16, CIFAR-10 Batch 3:  Cost=0.5257523655891418\n",
      "Accuracy=0.6243999600410461\n",
      "Epoch 16, CIFAR-10 Batch 4:  Cost=0.5712721943855286\n",
      "Accuracy=0.6315999031066895\n",
      "Epoch 16, CIFAR-10 Batch 5:  Cost=0.5085233449935913\n",
      "Accuracy=0.6307998895645142\n",
      "Epoch 17, CIFAR-10 Batch 1:  Cost=0.7476781606674194\n",
      "Accuracy=0.6333998441696167\n",
      "Epoch 17, CIFAR-10 Batch 2:  Cost=0.500847578048706\n",
      "Accuracy=0.6355999112129211\n",
      "Epoch 17, CIFAR-10 Batch 3:  Cost=0.5494698286056519\n",
      "Accuracy=0.6297999024391174\n",
      "Epoch 17, CIFAR-10 Batch 4:  Cost=0.524964451789856\n",
      "Accuracy=0.6373999118804932\n",
      "Epoch 17, CIFAR-10 Batch 5:  Cost=0.49209511280059814\n",
      "Accuracy=0.6289998292922974\n",
      "Epoch 18, CIFAR-10 Batch 1:  Cost=0.6793742179870605\n",
      "Accuracy=0.6365998983383179\n",
      "Epoch 18, CIFAR-10 Batch 2:  Cost=0.4937370717525482\n",
      "Accuracy=0.640799880027771\n",
      "Epoch 18, CIFAR-10 Batch 3:  Cost=0.4519270956516266\n",
      "Accuracy=0.6319999694824219\n",
      "Epoch 18, CIFAR-10 Batch 4:  Cost=0.4754021465778351\n",
      "Accuracy=0.6391999125480652\n",
      "Epoch 18, CIFAR-10 Batch 5:  Cost=0.4271470308303833\n",
      "Accuracy=0.6383999586105347\n",
      "Epoch 19, CIFAR-10 Batch 1:  Cost=0.6401630640029907\n",
      "Accuracy=0.6329998970031738\n",
      "Epoch 19, CIFAR-10 Batch 2:  Cost=0.49064531922340393\n",
      "Accuracy=0.6395998597145081\n",
      "Epoch 19, CIFAR-10 Batch 3:  Cost=0.44289979338645935\n",
      "Accuracy=0.6345998644828796\n",
      "Epoch 19, CIFAR-10 Batch 4:  Cost=0.4518907070159912\n",
      "Accuracy=0.6435998678207397\n",
      "Epoch 19, CIFAR-10 Batch 5:  Cost=0.4344785213470459\n",
      "Accuracy=0.6363998651504517\n",
      "Epoch 20, CIFAR-10 Batch 1:  Cost=0.5895276069641113\n",
      "Accuracy=0.63239985704422\n",
      "Epoch 20, CIFAR-10 Batch 2:  Cost=0.4619258642196655\n",
      "Accuracy=0.6465998888015747\n",
      "Epoch 20, CIFAR-10 Batch 3:  Cost=0.48274123668670654\n",
      "Accuracy=0.6259998679161072\n",
      "Epoch 20, CIFAR-10 Batch 4:  Cost=0.4531814455986023\n",
      "Accuracy=0.6407999396324158\n",
      "Epoch 20, CIFAR-10 Batch 5:  Cost=0.4269239902496338\n",
      "Accuracy=0.6379998922348022\n",
      "Epoch 21, CIFAR-10 Batch 1:  Cost=0.5846429467201233\n",
      "Accuracy=0.6393999457359314\n",
      "Epoch 21, CIFAR-10 Batch 2:  Cost=0.4556962549686432\n",
      "Accuracy=0.6433998942375183\n",
      "Epoch 21, CIFAR-10 Batch 3:  Cost=0.4826053977012634\n",
      "Accuracy=0.6293998956680298\n",
      "Epoch 21, CIFAR-10 Batch 4:  Cost=0.4372520446777344\n",
      "Accuracy=0.6415998935699463\n",
      "Epoch 21, CIFAR-10 Batch 5:  Cost=0.3655127286911011\n",
      "Accuracy=0.6465998888015747\n",
      "Epoch 22, CIFAR-10 Batch 1:  Cost=0.5907683968544006\n",
      "Accuracy=0.6487999558448792\n",
      "Epoch 22, CIFAR-10 Batch 2:  Cost=0.47804874181747437\n",
      "Accuracy=0.6439998745918274\n",
      "Epoch 22, CIFAR-10 Batch 3:  Cost=0.4018055498600006\n",
      "Accuracy=0.6257999539375305\n",
      "Epoch 22, CIFAR-10 Batch 4:  Cost=0.4353497624397278\n",
      "Accuracy=0.6353998184204102\n",
      "Epoch 22, CIFAR-10 Batch 5:  Cost=0.3623194694519043\n",
      "Accuracy=0.6523998975753784\n",
      "Epoch 23, CIFAR-10 Batch 1:  Cost=0.5356151461601257\n",
      "Accuracy=0.6467999219894409\n",
      "Epoch 23, CIFAR-10 Batch 2:  Cost=0.46787014603614807\n",
      "Accuracy=0.6477998495101929\n",
      "Epoch 23, CIFAR-10 Batch 3:  Cost=0.4637548327445984\n",
      "Accuracy=0.616599977016449\n",
      "Epoch 23, CIFAR-10 Batch 4:  Cost=0.4155009984970093\n",
      "Accuracy=0.6495998501777649\n",
      "Epoch 23, CIFAR-10 Batch 5:  Cost=0.3397815227508545\n",
      "Accuracy=0.6513999104499817\n",
      "Epoch 24, CIFAR-10 Batch 1:  Cost=0.525562584400177\n",
      "Accuracy=0.624799907207489\n",
      "Epoch 24, CIFAR-10 Batch 2:  Cost=0.4162972569465637\n",
      "Accuracy=0.6527998447418213\n",
      "Epoch 24, CIFAR-10 Batch 3:  Cost=0.4151969254016876\n",
      "Accuracy=0.6205998659133911\n",
      "Epoch 24, CIFAR-10 Batch 4:  Cost=0.3595607876777649\n",
      "Accuracy=0.6525998711585999\n",
      "Epoch 24, CIFAR-10 Batch 5:  Cost=0.3308648467063904\n",
      "Accuracy=0.6555998921394348\n",
      "Epoch 25, CIFAR-10 Batch 1:  Cost=0.5494062900543213\n",
      "Accuracy=0.6281999349594116\n",
      "Epoch 25, CIFAR-10 Batch 2:  Cost=0.4191506505012512\n",
      "Accuracy=0.6525998711585999\n",
      "Epoch 25, CIFAR-10 Batch 3:  Cost=0.411858469247818\n",
      "Accuracy=0.6157999038696289\n",
      "Epoch 25, CIFAR-10 Batch 4:  Cost=0.3586030602455139\n",
      "Accuracy=0.644399881362915\n",
      "Epoch 25, CIFAR-10 Batch 5:  Cost=0.32697001099586487\n",
      "Accuracy=0.6547999382019043\n"
     ]
    }
   ],
   "source": [
    "\"\"\"\n",
    "DON'T MODIFY ANYTHING IN THIS CELL\n",
    "\"\"\"\n",
    "save_model_path = './image_classification'\n",
    "\n",
    "print('Training...')\n",
    "with tf.Session() as sess:\n",
    "    # Initializing the variables\n",
    "    sess.run(tf.global_variables_initializer())\n",
    "    \n",
    "    # Training cycle\n",
    "    for epoch in range(epochs):\n",
    "        # Loop over all batches\n",
    "        n_batches = 5\n",
    "        for batch_i in range(1, n_batches + 1):\n",
    "            for batch_features, batch_labels in helper.load_preprocess_training_batch(batch_i, batch_size):\n",
    "                train_neural_network(sess, optimizer, keep_probability, batch_features, batch_labels)\n",
    "            print('Epoch {:>2}, CIFAR-10 Batch {}:  '.format(epoch + 1, batch_i), end='')\n",
    "            print_stats(sess, batch_features, batch_labels, cost, accuracy)\n",
    "            \n",
    "    # Save Model\n",
    "    saver = tf.train.Saver()\n",
    "    save_path = saver.save(sess, save_model_path)"
   ]
  },
  {
   "cell_type": "markdown",
   "metadata": {
    "deletable": true,
    "editable": true
   },
   "source": [
    "# Checkpoint\n",
    "The model has been saved to disk.\n",
    "## Test Model\n",
    "Test your model against the test dataset.  This will be your final accuracy. You should have an accuracy greater than 50%. If you don't, keep tweaking the model architecture and parameters."
   ]
  },
  {
   "cell_type": "code",
   "execution_count": 18,
   "metadata": {
    "collapsed": false,
    "deletable": true,
    "editable": true
   },
   "outputs": [
    {
     "name": "stdout",
     "output_type": "stream",
     "text": [
      "Testing Accuracy: 0.6541015625\n",
      "\n"
     ]
    },
    {
     "data": {
      "image/png": "[encoded data removed]",
      "text/plain": [
       "<matplotlib.figure.Figure at 0x7f64a649ca90>"
      ]
     },
     "metadata": {
      "image/png": {
       "height": 319,
       "width": 355
      }
     },
     "output_type": "display_data"
    }
   ],
   "source": [
    "\"\"\"\n",
    "DON'T MODIFY ANYTHING IN THIS CELL\n",
    "\"\"\"\n",
    "%matplotlib inline\n",
    "%config InlineBackend.figure_format = 'retina'\n",
    "\n",
    "import tensorflow as tf\n",
    "import pickle\n",
    "import helper\n",
    "import random\n",
    "\n",
    "# Set batch size if not already set\n",
    "try:\n",
    "    if batch_size:\n",
    "        pass\n",
    "except NameError:\n",
    "    batch_size = 64\n",
    "\n",
    "save_model_path = './image_classification'\n",
    "n_samples = 4\n",
    "top_n_predictions = 3\n",
    "\n",
    "def test_model():\n",
    "    \"\"\"\n",
    "    Test the saved model against the test dataset\n",
    "    \"\"\"\n",
    "\n",
    "    test_features, test_labels = pickle.load(open('preprocess_training.p', mode='rb'))\n",
    "    loaded_graph = tf.Graph()\n",
    "\n",
    "    with tf.Session(graph=loaded_graph) as sess:\n",
    "        # Load model\n",
    "        loader = tf.train.import_meta_graph(save_model_path + '.meta')\n",
    "        loader.restore(sess, save_model_path)\n",
    "\n",
    "        # Get Tensors from loaded model\n",
    "        loaded_x = loaded_graph.get_tensor_by_name('x:0')\n",
    "        loaded_y = loaded_graph.get_tensor_by_name('y:0')\n",
    "        loaded_keep_prob = loaded_graph.get_tensor_by_name('keep_prob:0')\n",
    "        loaded_logits = loaded_graph.get_tensor_by_name('logits:0')\n",
    "        loaded_acc = loaded_graph.get_tensor_by_name('accuracy:0')\n",
    "        \n",
    "        # Get accuracy in batches for memory limitations\n",
    "        test_batch_acc_total = 0\n",
    "        test_batch_count = 0\n",
    "        \n",
    "        for train_feature_batch, train_label_batch in helper.batch_features_labels(test_features, test_labels, batch_size):\n",
    "            test_batch_acc_total += sess.run(\n",
    "                loaded_acc,\n",
    "                feed_dict={loaded_x: train_feature_batch, loaded_y: train_label_batch, loaded_keep_prob: 1.0})\n",
    "            test_batch_count += 1\n",
    "\n",
    "        print('Testing Accuracy: {}\\n'.format(test_batch_acc_total/test_batch_count))\n",
    "\n",
    "        # Print Random Samples\n",
    "        random_test_features, random_test_labels = tuple(zip(*random.sample(list(zip(test_features, test_labels)), n_samples)))\n",
    "        random_test_predictions = sess.run(\n",
    "            tf.nn.top_k(tf.nn.softmax(loaded_logits), top_n_predictions),\n",
    "            feed_dict={loaded_x: random_test_features, loaded_y: random_test_labels, loaded_keep_prob: 1.0})\n",
    "        helper.display_image_predictions(random_test_features, random_test_labels, random_test_predictions)\n",
    "\n",
    "\n",
    "test_model()"
   ]
  },
  {
   "cell_type": "markdown",
   "metadata": {
    "deletable": true,
    "editable": true
   },
   "source": [
    "## Why 50-70% Accuracy?\n",
    "You might be wondering why you can't get an accuracy any higher. First things first, 50% isn't bad for a simple CNN.  Pure guessing would get you 10% accuracy. However, you might notice people are getting scores [well above 70%](http://rodrigob.github.io/are_we_there_yet/build/classification_datasets_results.html#43494641522d3130).  That's because we haven't taught you all there is to know about neural networks. We still need to cover a few more techniques.\n",
    "## Submitting This Project\n",
    "When submitting this project, make sure to run all the cells before saving the notebook.  Save the notebook file as \"dlnd_image_classification.ipynb\" and save it as a HTML file under \"File\" -> \"Download as\".  Include the \"helper.py\" and \"problem_unittests.py\" files in your submission."
   ]
  }
 ],
 "metadata": {
  "anaconda-cloud": {},
  "kernelspec": {
   "display_name": "Python 3",
   "language": "python",
   "name": "python3"
  },
  "language_info": {
   "codemirror_mode": {
    "name": "ipython",
    "version": 3
   },
   "file_extension": ".py",
   "mimetype": "text/x-python",
   "name": "python",
   "nbconvert_exporter": "python",
   "pygments_lexer": "ipython3",
   "version": "3.5.3"
  }
 },
 "nbformat": 4,
 "nbformat_minor": 0
}
